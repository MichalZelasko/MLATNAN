{
 "cells": [
  {
   "cell_type": "markdown",
   "metadata": {},
   "source": [
    "Library installation"
   ]
  },
  {
   "cell_type": "code",
   "execution_count": null,
   "metadata": {},
   "outputs": [],
   "source": [
    "%%bash\n",
    "\n",
    "sudo apt install curl"
   ]
  },
  {
   "cell_type": "code",
   "execution_count": null,
   "metadata": {},
   "outputs": [],
   "source": [
    "!pip install dipy"
   ]
  },
  {
   "cell_type": "markdown",
   "metadata": {},
   "source": [
    "Library import"
   ]
  },
  {
   "cell_type": "code",
   "execution_count": 1,
   "metadata": {},
   "outputs": [],
   "source": [
    "import matplotlib.pylab as plt\n",
    "import os\n",
    "import numpy as np\n",
    "from scipy.ndimage import binary_dilation"
   ]
  },
  {
   "cell_type": "code",
   "execution_count": 22,
   "metadata": {},
   "outputs": [],
   "source": [
    "from dipy.core.gradients import gradient_table\n",
    "from dipy.data import get_fnames\n",
    "from dipy.io.gradients import read_bvals_bvecs\n",
    "from dipy.io.image import load_nifti_data, load_nifti, save_nifti\n",
    "from dipy.direction import peaks\n",
    "from dipy.reconst import shm\n",
    "from dipy.tracking import utils\n",
    "from dipy.tracking.local_tracking import LocalTracking\n",
    "from dipy.tracking.stopping_criterion import BinaryStoppingCriterion\n",
    "from dipy.tracking.streamline import Streamlines"
   ]
  },
  {
   "cell_type": "code",
   "execution_count": 23,
   "metadata": {},
   "outputs": [],
   "source": [
    "from dipy.io.stateful_tractogram import Space, StatefulTractogram\n",
    "from dipy.io.streamline import save_trk"
   ]
  },
  {
   "cell_type": "code",
   "execution_count": 24,
   "metadata": {},
   "outputs": [],
   "source": [
    "def take_import_text(number = 10159, short=False):\n",
    "    # choose lines containing given number of directory\n",
    "    f = open(\"./Data/ds000030-1.0.0.sh\", \"r\")\n",
    "    lines_array = f.readlines()\n",
    "    lines_import_text = \"\"\n",
    "    nii_gz_filenames = []\n",
    "    for line in lines_array:\n",
    "        if f\"sub-{number}\" in line[-60:] and (not short or \"dwi\" in line): \n",
    "            lines_import_text += line\n",
    "            if \"nii.gz\" in line[-10:]:\n",
    "                words = line.split(\" \")\n",
    "                nii_gz_filenames.append(words[-1][:-1])\n",
    "    return lines_import_text, nii_gz_filenames"
   ]
  },
  {
   "cell_type": "code",
   "execution_count": 25,
   "metadata": {},
   "outputs": [],
   "source": [
    "def create_bash_script(number = 10159, do_import = True, short=False):\n",
    "    # removing previous script\n",
    "    try:\n",
    "        os.system('rm ./Data/import_process_script.sh')\n",
    "    except:\n",
    "        print(\"No script file to remove!\")\n",
    "\n",
    "    # cut part of import script to download one directory\n",
    "    bin_bash = f\"#!/bin/bash\\n\"\n",
    "    import_data, nii_gz_filenames = take_import_text(number, short)\n",
    "    if not do_import: import_data = \"\"\n",
    "    \n",
    "    # extracting mask file from nii.gz files\n",
    "    convert_data_fsl = \"export FSLOUTPUTTYPE=NIFTI_GZ\\nexport PATH=\\\"/usr/local/fsl/bin$PATH\\\"\\nexport FSLDIR=\\\"/usr/local/fsl\\\"\\n\"\n",
    "    for filename in nii_gz_filenames:\n",
    "        convert_data_fsl += f\"bet ./{filename} ./{filename[:-7]}mask{filename[-7:]}\\n\" #f\"dir=\\\"./Data/sub-{number}\\\"\\nnifti_dir=\\\"processed-data/sub-{number}/\\\"\\nmkdir processed-data\\nmkdir $nifti_dir\\ndcm2niix -o $nifti_dir $dir\"\n",
    "    \n",
    "    # create script and write it to file\n",
    "    script_text = bin_bash + import_data + convert_data_fsl\n",
    "    # print(script_text)\n",
    "    f = open(\"./Data/import_process_script.sh\", \"w\")\n",
    "    f.write(script_text)"
   ]
  },
  {
   "cell_type": "code",
   "execution_count": 26,
   "metadata": {},
   "outputs": [],
   "source": [
    "# test\n",
    "# print(\"export FSLOUTPUTTYPE=NIFTI_GZ\\nexport PATH=\\\"/usr/local/fsl/bin$PATH\\\"\\nexport FSLDIR=\\\"/usr/local/fsl\\\"\")"
   ]
  },
  {
   "cell_type": "code",
   "execution_count": 27,
   "metadata": {},
   "outputs": [],
   "source": [
    "# test of function creating singlw directory downloading script\n",
    "# create_bash_script()"
   ]
  },
  {
   "cell_type": "code",
   "execution_count": 28,
   "metadata": {},
   "outputs": [],
   "source": [
    "def run_script(number = 10159, do_import = True, short=False):\n",
    "    # create script importing and converting single directory\n",
    "    create_bash_script(number=number, do_import=do_import, short=short)\n",
    "\n",
    "    # run script in bash\n",
    "    os.system('bash ./Data/import_process_script.sh')"
   ]
  },
  {
   "cell_type": "code",
   "execution_count": 29,
   "metadata": {},
   "outputs": [],
   "source": [
    "# test of running script for downloading files\n",
    "# and creating brain masks necessary for further analyse\n",
    "# run_script()"
   ]
  },
  {
   "cell_type": "code",
   "execution_count": 30,
   "metadata": {},
   "outputs": [],
   "source": [
    "def process_to_streamlines(filename = None, number = 10159, do_draw = False):\n",
    "    # load data\n",
    "    if filename == None:\n",
    "        data, affine, load_img = load_nifti(f\"./sub-{number}/dwi/sub-{number}_dwi.nii.gz\", return_img=True) #f\"./sub-{number}/anat/sub-10159_T1w.nii.gz\"\n",
    "        bvals, bvecs = read_bvals_bvecs(f\"./sub-{number}/dwi/sub-{number}_dwi.bval\", f\"./sub-{number}/dwi/sub-{number}_dwi.bvec\")\n",
    "        gtab = gradient_table(bvals, bvecs)\n",
    "        labels = load_nifti_data(f\"./sub-{number}/dwi/sub-{number}_dwimask.nii.gz\")\n",
    "    else:\n",
    "        data, affine, load_img = load_nifti(filename, return_img=True) #f\"./sub-{number}/anat/sub-10159_T1w.nii.gz\"\n",
    "        bvals, bvecs = read_bvals_bvecs(f\"./sub-{number}/dwi/sub-{number}_dwi.bval\", f\"./sub-{number}/dwi/sub-{number}_dwi.bvec\")\n",
    "        gtab = gradient_table(bvals, bvecs)\n",
    "        labels = load_nifti_data(filename[:-7] + \"mask.nii.gz\")\n",
    "\n",
    "    # choosing part of the brain\n",
    "    # white_matter = binary_dilation((labels == 1) | (labels == 2)) \n",
    "    # it probably doesn't work this way, white_matter mask may look different in this files\n",
    "    white_matter = binary_dilation((labels == 1) | (labels == 2)) \n",
    "    csamodel = shm.CsaOdfModel(gtab, 6)\n",
    "    print(white_matter.shape, data.shape)\n",
    "    csapeaks = peaks.peaks_from_model(model=csamodel,\n",
    "                                    data=data,\n",
    "                                    sphere=peaks.default_sphere,\n",
    "                                    relative_peak_threshold=.8,\n",
    "                                    min_separation_angle=45)\n",
    "\n",
    "    affine = np.eye(4)\n",
    "    seeds = utils.seeds_from_mask(white_matter, affine, density=1)\n",
    "    stopping_criterion = BinaryStoppingCriterion(white_matter)\n",
    "\n",
    "    # choosing tracks model\n",
    "    streamline_generator = LocalTracking(csapeaks, stopping_criterion, seeds,\n",
    "                                        affine=affine, step_size=0.5) # we can change stopping criterion here\n",
    "    streamlines = Streamlines(streamline_generator)\n",
    "\n",
    "    # choosing proper brain slice (verify if it is necessary)\n",
    "    cc_slice = labels == 2\n",
    "    cc_streamlines = utils.target(streamlines, affine, cc_slice)\n",
    "    cc_streamlines = Streamlines(cc_streamlines)\n",
    "\n",
    "    # save streamlines\n",
    "    sft = StatefulTractogram(cc_streamlines, load_img, Space.VOX)\n",
    "    save_trk(sft, \"cc_streamlines.trk\")\n",
    "\n",
    "    # create connectivity matrix\n",
    "    print(cc_streamlines)\n",
    "    M, _ = utils.connectivity_matrix(cc_streamlines, affine,\n",
    "                                        labels.astype(np.uint8),\n",
    "                                        return_mapping=True,\n",
    "                                        mapping_as_streamlines=True)\n",
    "    M[:3, :] = 0\n",
    "    M[:, :3] = 0\n",
    "\n",
    "    # plot cennectivity matrix\n",
    "    if do_draw:\n",
    "        plt.imshow(np.log1p(M), interpolation='nearest')\n",
    "        plt.savefig(f\"connectivity-{number}.png\")\n",
    "\n",
    "    return M   "
   ]
  },
  {
   "cell_type": "code",
   "execution_count": 31,
   "metadata": {},
   "outputs": [],
   "source": [
    "# test of processing to streamline\n",
    "# print(process_to_streamlines(number = 10159, do_draw = True))"
   ]
  },
  {
   "cell_type": "code",
   "execution_count": 32,
   "metadata": {},
   "outputs": [],
   "source": [
    "def write_conectivity_matrix_to_file(M, number = 10159):\n",
    "    # save connectivity matrix as a .txt file\n",
    "    # filename consists a directory number\n",
    "    f = open(f\"./cc_matrices/connectivity-matrix-{number}.txt\", \"w\")\n",
    "    for row in M:\n",
    "        for cell in row:\n",
    "            f.write(str(cell) + \",\")\n",
    "        f.write(\"\\n\")"
   ]
  },
  {
   "cell_type": "code",
   "execution_count": 33,
   "metadata": {},
   "outputs": [],
   "source": [
    "def remove_sub_directory(number):\n",
    "    # remove downloaded directory with data\n",
    "    try:\n",
    "        os.system(f\"rm -r sub-{number}\")\n",
    "    except:\n",
    "        print(\"No directory to remove!\")"
   ]
  },
  {
   "cell_type": "code",
   "execution_count": 34,
   "metadata": {},
   "outputs": [],
   "source": [
    "def preprocess_single_record(number = 10159, do_draw = False, short = False):\n",
    "    # main function for data preprocessing\n",
    "    run_script(number, short=short)\n",
    "    M = process_to_streamlines(number = number, do_draw = do_draw)\n",
    "    write_conectivity_matrix_to_file(M, number=number)\n",
    "    remove_sub_directory(number)"
   ]
  },
  {
   "cell_type": "code",
   "execution_count": 35,
   "metadata": {},
   "outputs": [],
   "source": [
    "# test of processing single directory\n",
    "# preprocess_single_record(number = 10159, do_draw = False)"
   ]
  },
  {
   "cell_type": "code",
   "execution_count": 36,
   "metadata": {},
   "outputs": [],
   "source": [
    "def choose_directory_numbers(index = 0):\n",
    "    index = index % 4\n",
    "    f = open(\"./Data/ds000030-1.0.0.sh\", \"r\")\n",
    "    lines_array = f.readlines()\n",
    "    directory_numbers_set = set()\n",
    "    for line in lines_array:\n",
    "        if f\"_dwi.nii.gz\" in line[-60:]: \n",
    "            directory_numbers_set.add(int(line[-17:-12]))\n",
    "    directory_numbers_list = list(directory_numbers_set)\n",
    "    directory_numbers_list = sorted(directory_numbers_list)\n",
    "    n = len(directory_numbers_list)\n",
    "    return directory_numbers_list[index * n // 4:(index + 1) * n // 4]"
   ]
  },
  {
   "cell_type": "code",
   "execution_count": 37,
   "metadata": {},
   "outputs": [
    {
     "name": "stdout",
     "output_type": "stream",
     "text": [
      "[10159, 10171, 10189, 10193, 10206, 10217, 10225, 10227, 10228, 10235, 10249, 10269, 10271, 10273, 10274, 10280, 10290, 10292, 10304, 10316, 10321, 10325, 10329, 10339, 10340, 10345, 10347, 10356, 10361, 10365, 10376, 10377, 10388, 10429, 10438, 10440, 10448, 10455, 10460, 10471, 10478, 10487, 10492, 10506, 10517, 10523, 10524, 10525, 10527, 10530, 10557, 10565, 10570, 10575, 10624, 10629, 10631, 10638, 10674, 10678, 10680, 10686, 10692, 10696, 10697] 65\n",
      "[10704, 10707, 10708, 10719, 10724, 10746, 10762, 10779, 10785, 10788, 10844, 10855, 10871, 10877, 10882, 10891, 10893, 10912, 10934, 10940, 10948, 10949, 10958, 10963, 10968, 10975, 10977, 10987, 10998, 11019, 11030, 11044, 11050, 11052, 11059, 11061, 11062, 11066, 11067, 11068, 11077, 11082, 11088, 11090, 11097, 11098, 11104, 11105, 11106, 11108, 11112, 11122, 11128, 11131, 11142, 11143, 11149, 11156, 50004, 50005, 50006, 50007, 50008, 50010, 50013, 50014] 66\n",
      "[50015, 50016, 50020, 50021, 50022, 50023, 50025, 50027, 50029, 50032, 50033, 50034, 50035, 50036, 50038, 50043, 50047, 50048, 50049, 50050, 50051, 50052, 50053, 50054, 50055, 50056, 50058, 50059, 50060, 50061, 50064, 50066, 50067, 50069, 50075, 50076, 50077, 50080, 50081, 50083, 50085, 60001, 60005, 60006, 60008, 60010, 60011, 60012, 60014, 60015, 60016, 60017, 60020, 60021, 60022, 60028, 60030, 60033, 60036, 60037, 60038, 60042, 60043, 60045, 60046] 65\n",
      "[60048, 60049, 60051, 60052, 60053, 60055, 60056, 60057, 60060, 60062, 60065, 60066, 60068, 60070, 60072, 60073, 60074, 60076, 60077, 60078, 60079, 60080, 60084, 60087, 60089, 70001, 70002, 70004, 70007, 70010, 70015, 70017, 70020, 70021, 70022, 70026, 70029, 70033, 70034, 70037, 70040, 70046, 70048, 70049, 70051, 70052, 70055, 70057, 70058, 70060, 70061, 70065, 70068, 70069, 70070, 70072, 70073, 70074, 70075, 70076, 70077, 70079, 70080, 70081, 70083, 70086] 66\n"
     ]
    }
   ],
   "source": [
    "print(choose_directory_numbers(0), len(choose_directory_numbers(0)))\n",
    "print(choose_directory_numbers(1), len(choose_directory_numbers(1)))\n",
    "print(choose_directory_numbers(2), len(choose_directory_numbers(2)))\n",
    "print(choose_directory_numbers(3), len(choose_directory_numbers(3)))"
   ]
  },
  {
   "cell_type": "code",
   "execution_count": 38,
   "metadata": {},
   "outputs": [],
   "source": [
    "def proprocess_record_batch(index = 0, short = False):\n",
    "    # download, create brain masks, process data\n",
    "    # from given list of directories (represeted with numbers)\n",
    "    # argument index id personal id for every team member \n",
    "    # running this code in order to preprocess a batch of data\n",
    "    index_list = choose_directory_numbers(index)\n",
    "    for index in index_list:\n",
    "        print(f\"Directory: sub-{index}\")\n",
    "        preprocess_single_record(number = index, do_draw = False, short=short)"
   ]
  },
  {
   "cell_type": "code",
   "execution_count": 39,
   "metadata": {},
   "outputs": [
    {
     "name": "stdout",
     "output_type": "stream",
     "text": [
      "Directory: sub-10159\n"
     ]
    },
    {
     "name": "stderr",
     "output_type": "stream",
     "text": [
      "  % Total    % Received % Xferd  Average Speed   Time    Time     Time  Current\n",
      "                                 Dload  Upload   Total   Spent    Left  Speed\n",
      "100   322  100   322    0     0    336      0 --:--:-- --:--:-- --:--:--   336\n",
      "  % Total    % Received % Xferd  Average Speed   Time    Time     Time  Current\n",
      "                                 Dload  Upload   Total   Spent    Left  Speed\n",
      "100  1814  100  1814    0     0   1830      0 --:--:-- --:--:-- --:--:--  1830\n",
      "  % Total    % Received % Xferd  Average Speed   Time    Time     Time  Current\n",
      "                                 Dload  Upload   Total   Spent    Left  Speed\n",
      "100  2007  100  2007    0     0   1971      0  0:00:01  0:00:01 --:--:--  1973\n",
      "  % Total    % Received % Xferd  Average Speed   Time    Time     Time  Current\n",
      "                                 Dload  Upload   Total   Spent    Left  Speed\n",
      "100 30.5M  100 30.5M    0     0  1687k      0  0:00:18  0:00:18 --:--:-- 1984k\n",
      "./Data/import_process_script.sh: linia 8: export: `./sub-10159/dwi/sub-10159_dwi.nii.gz': nieprawidłowy identyfikator\n",
      "./Data/import_process_script.sh: linia 8: export: `./sub-10159/dwi/sub-10159_dwimask.nii.gz': nieprawidłowy identyfikator\n"
     ]
    },
    {
     "ename": "FileNotFoundError",
     "evalue": "No such file or no access: './sub-10159/dwi/sub-10159_dwimask.nii.gz'",
     "output_type": "error",
     "traceback": [
      "\u001b[0;31m---------------------------------------------------------------------------\u001b[0m",
      "\u001b[0;31mFileNotFoundError\u001b[0m                         Traceback (most recent call last)",
      "File \u001b[0;32m~/miniconda3/envs/ML4Neuro/lib/python3.11/site-packages/nibabel/loadsave.py:100\u001b[0m, in \u001b[0;36mload\u001b[0;34m(filename, **kwargs)\u001b[0m\n\u001b[1;32m     99\u001b[0m \u001b[39mtry\u001b[39;00m:\n\u001b[0;32m--> 100\u001b[0m     stat_result \u001b[39m=\u001b[39m os\u001b[39m.\u001b[39;49mstat(filename)\n\u001b[1;32m    101\u001b[0m \u001b[39mexcept\u001b[39;00m \u001b[39mOSError\u001b[39;00m:\n",
      "\u001b[0;31mFileNotFoundError\u001b[0m: [Errno 2] No such file or directory: './sub-10159/dwi/sub-10159_dwimask.nii.gz'",
      "\nDuring handling of the above exception, another exception occurred:\n",
      "\u001b[0;31mFileNotFoundError\u001b[0m                         Traceback (most recent call last)",
      "\u001b[1;32m/home/mzelasko/Dokumenty/Studia/MLATNAN/Projekt/data_input.ipynb Cell 23\u001b[0m line \u001b[0;36m2\n\u001b[1;32m      <a href='vscode-notebook-cell:/home/mzelasko/Dokumenty/Studia/MLATNAN/Projekt/data_input.ipynb#X31sZmlsZQ%3D%3D?line=0'>1</a>\u001b[0m \u001b[39m# put your index\u001b[39;00m\n\u001b[0;32m----> <a href='vscode-notebook-cell:/home/mzelasko/Dokumenty/Studia/MLATNAN/Projekt/data_input.ipynb#X31sZmlsZQ%3D%3D?line=1'>2</a>\u001b[0m proprocess_record_batch(index \u001b[39m=\u001b[39;49m \u001b[39m0\u001b[39;49m, short \u001b[39m=\u001b[39;49m \u001b[39mTrue\u001b[39;49;00m) \n",
      "\u001b[1;32m/home/mzelasko/Dokumenty/Studia/MLATNAN/Projekt/data_input.ipynb Cell 23\u001b[0m line \u001b[0;36m9\n\u001b[1;32m      <a href='vscode-notebook-cell:/home/mzelasko/Dokumenty/Studia/MLATNAN/Projekt/data_input.ipynb#X31sZmlsZQ%3D%3D?line=6'>7</a>\u001b[0m \u001b[39mfor\u001b[39;00m index \u001b[39min\u001b[39;00m index_list:\n\u001b[1;32m      <a href='vscode-notebook-cell:/home/mzelasko/Dokumenty/Studia/MLATNAN/Projekt/data_input.ipynb#X31sZmlsZQ%3D%3D?line=7'>8</a>\u001b[0m     \u001b[39mprint\u001b[39m(\u001b[39mf\u001b[39m\u001b[39m\"\u001b[39m\u001b[39mDirectory: sub-\u001b[39m\u001b[39m{\u001b[39;00mindex\u001b[39m}\u001b[39;00m\u001b[39m\"\u001b[39m)\n\u001b[0;32m----> <a href='vscode-notebook-cell:/home/mzelasko/Dokumenty/Studia/MLATNAN/Projekt/data_input.ipynb#X31sZmlsZQ%3D%3D?line=8'>9</a>\u001b[0m     preprocess_single_record(number \u001b[39m=\u001b[39;49m index, do_draw \u001b[39m=\u001b[39;49m \u001b[39mFalse\u001b[39;49;00m, short\u001b[39m=\u001b[39;49mshort)\n",
      "\u001b[1;32m/home/mzelasko/Dokumenty/Studia/MLATNAN/Projekt/data_input.ipynb Cell 23\u001b[0m line \u001b[0;36m4\n\u001b[1;32m      <a href='vscode-notebook-cell:/home/mzelasko/Dokumenty/Studia/MLATNAN/Projekt/data_input.ipynb#X31sZmlsZQ%3D%3D?line=0'>1</a>\u001b[0m \u001b[39mdef\u001b[39;00m \u001b[39mpreprocess_single_record\u001b[39m(number \u001b[39m=\u001b[39m \u001b[39m10159\u001b[39m, do_draw \u001b[39m=\u001b[39m \u001b[39mFalse\u001b[39;00m, short \u001b[39m=\u001b[39m \u001b[39mFalse\u001b[39;00m):\n\u001b[1;32m      <a href='vscode-notebook-cell:/home/mzelasko/Dokumenty/Studia/MLATNAN/Projekt/data_input.ipynb#X31sZmlsZQ%3D%3D?line=1'>2</a>\u001b[0m     \u001b[39m# main function for data preprocessing\u001b[39;00m\n\u001b[1;32m      <a href='vscode-notebook-cell:/home/mzelasko/Dokumenty/Studia/MLATNAN/Projekt/data_input.ipynb#X31sZmlsZQ%3D%3D?line=2'>3</a>\u001b[0m     run_script(number, short\u001b[39m=\u001b[39mshort)\n\u001b[0;32m----> <a href='vscode-notebook-cell:/home/mzelasko/Dokumenty/Studia/MLATNAN/Projekt/data_input.ipynb#X31sZmlsZQ%3D%3D?line=3'>4</a>\u001b[0m     M \u001b[39m=\u001b[39m process_to_streamlines(number \u001b[39m=\u001b[39;49m number, do_draw \u001b[39m=\u001b[39;49m do_draw)\n\u001b[1;32m      <a href='vscode-notebook-cell:/home/mzelasko/Dokumenty/Studia/MLATNAN/Projekt/data_input.ipynb#X31sZmlsZQ%3D%3D?line=4'>5</a>\u001b[0m     write_conectivity_matrix_to_file(M, number\u001b[39m=\u001b[39mnumber)\n\u001b[1;32m      <a href='vscode-notebook-cell:/home/mzelasko/Dokumenty/Studia/MLATNAN/Projekt/data_input.ipynb#X31sZmlsZQ%3D%3D?line=5'>6</a>\u001b[0m     remove_sub_directory(number)\n",
      "\u001b[1;32m/home/mzelasko/Dokumenty/Studia/MLATNAN/Projekt/data_input.ipynb Cell 23\u001b[0m line \u001b[0;36m7\n\u001b[1;32m      <a href='vscode-notebook-cell:/home/mzelasko/Dokumenty/Studia/MLATNAN/Projekt/data_input.ipynb#X31sZmlsZQ%3D%3D?line=4'>5</a>\u001b[0m     bvals, bvecs \u001b[39m=\u001b[39m read_bvals_bvecs(\u001b[39mf\u001b[39m\u001b[39m\"\u001b[39m\u001b[39m./sub-\u001b[39m\u001b[39m{\u001b[39;00mnumber\u001b[39m}\u001b[39;00m\u001b[39m/dwi/sub-\u001b[39m\u001b[39m{\u001b[39;00mnumber\u001b[39m}\u001b[39;00m\u001b[39m_dwi.bval\u001b[39m\u001b[39m\"\u001b[39m, \u001b[39mf\u001b[39m\u001b[39m\"\u001b[39m\u001b[39m./sub-\u001b[39m\u001b[39m{\u001b[39;00mnumber\u001b[39m}\u001b[39;00m\u001b[39m/dwi/sub-\u001b[39m\u001b[39m{\u001b[39;00mnumber\u001b[39m}\u001b[39;00m\u001b[39m_dwi.bvec\u001b[39m\u001b[39m\"\u001b[39m)\n\u001b[1;32m      <a href='vscode-notebook-cell:/home/mzelasko/Dokumenty/Studia/MLATNAN/Projekt/data_input.ipynb#X31sZmlsZQ%3D%3D?line=5'>6</a>\u001b[0m     gtab \u001b[39m=\u001b[39m gradient_table(bvals, bvecs)\n\u001b[0;32m----> <a href='vscode-notebook-cell:/home/mzelasko/Dokumenty/Studia/MLATNAN/Projekt/data_input.ipynb#X31sZmlsZQ%3D%3D?line=6'>7</a>\u001b[0m     labels \u001b[39m=\u001b[39m load_nifti_data(\u001b[39mf\u001b[39;49m\u001b[39m\"\u001b[39;49m\u001b[39m./sub-\u001b[39;49m\u001b[39m{\u001b[39;49;00mnumber\u001b[39m}\u001b[39;49;00m\u001b[39m/dwi/sub-\u001b[39;49m\u001b[39m{\u001b[39;49;00mnumber\u001b[39m}\u001b[39;49;00m\u001b[39m_dwimask.nii.gz\u001b[39;49m\u001b[39m\"\u001b[39;49m)\n\u001b[1;32m      <a href='vscode-notebook-cell:/home/mzelasko/Dokumenty/Studia/MLATNAN/Projekt/data_input.ipynb#X31sZmlsZQ%3D%3D?line=7'>8</a>\u001b[0m \u001b[39melse\u001b[39;00m:\n\u001b[1;32m      <a href='vscode-notebook-cell:/home/mzelasko/Dokumenty/Studia/MLATNAN/Projekt/data_input.ipynb#X31sZmlsZQ%3D%3D?line=8'>9</a>\u001b[0m     data, affine, load_img \u001b[39m=\u001b[39m load_nifti(filename, return_img\u001b[39m=\u001b[39m\u001b[39mTrue\u001b[39;00m) \u001b[39m#f\"./sub-{number}/anat/sub-10159_T1w.nii.gz\"\u001b[39;00m\n",
      "File \u001b[0;32m~/miniconda3/envs/ML4Neuro/lib/python3.11/site-packages/dipy/io/image.py:29\u001b[0m, in \u001b[0;36mload_nifti_data\u001b[0;34m(fname, as_ndarray)\u001b[0m\n\u001b[1;32m      8\u001b[0m \u001b[39mdef\u001b[39;00m \u001b[39mload_nifti_data\u001b[39m(fname, as_ndarray\u001b[39m=\u001b[39m\u001b[39mTrue\u001b[39;00m):\n\u001b[1;32m      9\u001b[0m \u001b[39m    \u001b[39m\u001b[39m\"\"\"Load only the data array from a nifti file.\u001b[39;00m\n\u001b[1;32m     10\u001b[0m \n\u001b[1;32m     11\u001b[0m \u001b[39m    Parameters\u001b[39;00m\n\u001b[0;32m   (...)\u001b[0m\n\u001b[1;32m     27\u001b[0m \n\u001b[1;32m     28\u001b[0m \u001b[39m    \"\"\"\u001b[39;00m\n\u001b[0;32m---> 29\u001b[0m     img \u001b[39m=\u001b[39m nib\u001b[39m.\u001b[39;49mload(fname)\n\u001b[1;32m     30\u001b[0m     \u001b[39mreturn\u001b[39;00m np\u001b[39m.\u001b[39masanyarray(img\u001b[39m.\u001b[39mdataobj) \u001b[39mif\u001b[39;00m as_ndarray \u001b[39melse\u001b[39;00m img\u001b[39m.\u001b[39mdataobj\n",
      "File \u001b[0;32m~/miniconda3/envs/ML4Neuro/lib/python3.11/site-packages/nibabel/loadsave.py:102\u001b[0m, in \u001b[0;36mload\u001b[0;34m(filename, **kwargs)\u001b[0m\n\u001b[1;32m    100\u001b[0m     stat_result \u001b[39m=\u001b[39m os\u001b[39m.\u001b[39mstat(filename)\n\u001b[1;32m    101\u001b[0m \u001b[39mexcept\u001b[39;00m \u001b[39mOSError\u001b[39;00m:\n\u001b[0;32m--> 102\u001b[0m     \u001b[39mraise\u001b[39;00m \u001b[39mFileNotFoundError\u001b[39;00m(\u001b[39mf\u001b[39m\u001b[39m\"\u001b[39m\u001b[39mNo such file or no access: \u001b[39m\u001b[39m'\u001b[39m\u001b[39m{\u001b[39;00mfilename\u001b[39m}\u001b[39;00m\u001b[39m'\u001b[39m\u001b[39m\"\u001b[39m)\n\u001b[1;32m    103\u001b[0m \u001b[39mif\u001b[39;00m stat_result\u001b[39m.\u001b[39mst_size \u001b[39m<\u001b[39m\u001b[39m=\u001b[39m \u001b[39m0\u001b[39m:\n\u001b[1;32m    104\u001b[0m     \u001b[39mraise\u001b[39;00m ImageFileError(\u001b[39mf\u001b[39m\u001b[39m\"\u001b[39m\u001b[39mEmpty file: \u001b[39m\u001b[39m'\u001b[39m\u001b[39m{\u001b[39;00mfilename\u001b[39m}\u001b[39;00m\u001b[39m'\u001b[39m\u001b[39m\"\u001b[39m)\n",
      "\u001b[0;31mFileNotFoundError\u001b[0m: No such file or no access: './sub-10159/dwi/sub-10159_dwimask.nii.gz'"
     ]
    }
   ],
   "source": [
    "# put your index\n",
    "proprocess_record_batch(index = 0, short = True) "
   ]
  }
 ],
 "metadata": {
  "kernelspec": {
   "display_name": "ML4Neuro",
   "language": "python",
   "name": "python3"
  },
  "language_info": {
   "codemirror_mode": {
    "name": "ipython",
    "version": 3
   },
   "file_extension": ".py",
   "mimetype": "text/x-python",
   "name": "python",
   "nbconvert_exporter": "python",
   "pygments_lexer": "ipython3",
   "version": "3.11.5"
  }
 },
 "nbformat": 4,
 "nbformat_minor": 2
}
