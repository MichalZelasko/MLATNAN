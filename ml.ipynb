{
 "cells": [
  {
   "cell_type": "code",
   "execution_count": 1,
   "outputs": [],
   "source": [
    "import os\n",
    "\n",
    "import numpy as np\n",
    "import pandas as pd\n",
    "from sklearn import svm\n",
    "from sklearn.metrics import accuracy_score, precision_score, recall_score, f1_score, confusion_matrix\n",
    "from sklearn.model_selection import train_test_split"
   ],
   "metadata": {
    "collapsed": false
   }
  },
  {
   "cell_type": "code",
   "execution_count": 2,
   "outputs": [],
   "source": [
    "labels_file = 'Data/participants.tsv'\n",
    "data_directory = 'cc_matrices/'"
   ],
   "metadata": {
    "collapsed": false
   }
  },
  {
   "cell_type": "code",
   "execution_count": 3,
   "outputs": [],
   "source": [
    "def read_matrix_from_file(file_path):\n",
    "    with open(file_path, 'r') as file:\n",
    "        content = file.readlines()\n",
    "        matrix = []\n",
    "        for line in content:\n",
    "            values = line.rstrip().split(',')\n",
    "            row = []\n",
    "            for val in values:\n",
    "                if val.strip():\n",
    "                    try:\n",
    "                        row.append(float(val))\n",
    "                    except ValueError:\n",
    "                        print(f\"Warning: Non-numeric value '{val}' found. Skipping.\")\n",
    "            if row:\n",
    "                matrix.append(row)\n",
    "    return np.array(matrix)"
   ],
   "metadata": {
    "collapsed": false
   }
  },
  {
   "cell_type": "code",
   "execution_count": 26,
   "outputs": [
    {
     "name": "stdout",
     "output_type": "stream",
     "text": [
      "Unique Labels: ['CONTROL', 'ADHD', 'BIPOLAR', 'SCHZ']\n",
      "Labels:\n",
      " {10159: 0, 10171: 0, 10189: 0, 10193: 0, 10206: 0, 10217: 0, 10225: 0, 10227: 0, 10228: 0, 10235: 0, 10249: 0, 10269: 0, 10271: 0, 10273: 0, 10274: 0, 10280: 0, 10290: 0, 10292: 0, 10299: 0, 10304: 0, 10316: 0, 10321: 0, 10325: 0, 10329: 0, 10339: 0, 10340: 0, 10345: 0, 10347: 0, 10356: 0, 10361: 0, 10365: 0, 10376: 0, 10377: 0, 10388: 0, 10428: 0, 10429: 0, 10438: 0, 10440: 0, 10448: 0, 10455: 0, 10460: 0, 10471: 0, 10478: 0, 10487: 0, 10492: 0, 10501: 0, 10506: 0, 10517: 0, 10523: 0, 10524: 0, 10525: 0, 10527: 0, 10530: 0, 10557: 0, 10565: 0, 10570: 0, 10575: 0, 10624: 0, 10629: 0, 10631: 0, 10638: 0, 10668: 0, 10672: 0, 10674: 0, 10678: 0, 10680: 0, 10686: 0, 10692: 0, 10696: 0, 10697: 0, 10704: 0, 10707: 0, 10708: 0, 10719: 0, 10724: 0, 10746: 0, 10762: 0, 10779: 0, 10785: 0, 10788: 0, 10844: 0, 10855: 0, 10871: 0, 10877: 0, 10882: 0, 10891: 0, 10893: 0, 10912: 0, 10934: 0, 10940: 0, 10948: 0, 10949: 0, 10958: 0, 10963: 0, 10968: 0, 10971: 0, 10975: 0, 10977: 0, 10987: 0, 10998: 0, 11019: 0, 11030: 0, 11044: 0, 11050: 0, 11052: 0, 11059: 0, 11061: 0, 11062: 0, 11066: 0, 11067: 0, 11068: 0, 11077: 0, 11082: 0, 11088: 0, 11090: 0, 11097: 0, 11098: 0, 11104: 0, 11105: 0, 11106: 0, 11108: 0, 11112: 0, 11121: 0, 11122: 0, 11128: 0, 11131: 0, 11142: 0, 11143: 0, 11149: 0, 11156: 0, 50004: 3, 50005: 3, 50006: 3, 50007: 3, 50008: 3, 50010: 3, 50013: 3, 50014: 3, 50015: 3, 50016: 3, 50020: 3, 50021: 3, 50022: 3, 50023: 3, 50025: 3, 50027: 3, 50029: 3, 50032: 3, 50033: 3, 50034: 3, 50035: 3, 50036: 3, 50038: 3, 50043: 3, 50047: 3, 50048: 3, 50049: 3, 50050: 3, 50051: 3, 50052: 3, 50053: 3, 50054: 3, 50055: 3, 50056: 3, 50058: 3, 50059: 3, 50060: 3, 50061: 3, 50064: 3, 50066: 3, 50067: 3, 50069: 3, 50073: 3, 50075: 3, 50076: 3, 50077: 3, 50080: 3, 50081: 3, 50083: 3, 50085: 3, 60001: 2, 60005: 2, 60006: 2, 60008: 2, 60010: 2, 60011: 2, 60012: 2, 60014: 2, 60015: 2, 60016: 2, 60017: 2, 60020: 2, 60021: 2, 60022: 2, 60028: 2, 60030: 2, 60033: 2, 60036: 2, 60037: 2, 60038: 2, 60042: 2, 60043: 2, 60045: 2, 60046: 2, 60048: 2, 60049: 2, 60051: 2, 60052: 2, 60053: 2, 60055: 2, 60056: 2, 60057: 2, 60060: 2, 60062: 2, 60065: 2, 60066: 2, 60068: 2, 60070: 2, 60072: 2, 60073: 2, 60074: 2, 60076: 2, 60077: 2, 60078: 2, 60079: 2, 60080: 2, 60084: 2, 60087: 2, 60089: 2, 70001: 1, 70002: 1, 70004: 1, 70007: 1, 70010: 1, 70015: 1, 70017: 1, 70020: 1, 70021: 1, 70022: 1, 70026: 1, 70029: 1, 70033: 1, 70034: 1, 70035: 1, 70036: 1, 70037: 1, 70040: 1, 70046: 1, 70048: 1, 70049: 1, 70051: 1, 70052: 1, 70055: 1, 70057: 1, 70058: 1, 70060: 1, 70061: 1, 70065: 1, 70068: 1, 70069: 1, 70070: 1, 70072: 1, 70073: 1, 70074: 1, 70075: 1, 70076: 1, 70077: 1, 70079: 1, 70080: 1, 70081: 1, 70083: 1, 70086: 1}\n"
     ]
    }
   ],
   "source": [
    "participant_data = pd.read_csv(labels_file, sep='\\t')\n",
    "diagnosis_data = participant_data[['participant_id', 'diagnosis']]\n",
    "unique_labels = ['CONTROL', 'ADHD', 'BIPOLAR', 'SCHZ']\n",
    "\n",
    "labels_dict = dict(zip(diagnosis_data['participant_id'], diagnosis_data['diagnosis']))\n",
    "labels_dict = {int(key.replace('sub-', '')): value for key, value in labels_dict.items()}\n",
    "label_to_number = {label: i for i, label in enumerate(unique_labels)}\n",
    "numerical_labels_dict = {participant_id: label_to_number[label] for participant_id, label in labels_dict.items()}\n",
    "\n",
    "print(\"Unique Labels:\", unique_labels)\n",
    "print(\"Labels:\\n\", numerical_labels_dict)"
   ],
   "metadata": {
    "collapsed": false
   }
  },
  {
   "cell_type": "code",
   "execution_count": 28,
   "outputs": [
    {
     "name": "stdout",
     "output_type": "stream",
     "text": [
      "Counter({'CONTROL': 130, 'SCHZ': 50, 'BIPOLAR': 49, 'ADHD': 43})\n"
     ]
    }
   ],
   "source": [
    "from collections import Counter\n",
    "\n",
    "occurrences = Counter(labels_dict.values())\n",
    "print(\"Whole dataset\")\n",
    "print(occurrences)"
   ],
   "metadata": {
    "collapsed": false
   }
  },
  {
   "cell_type": "code",
   "execution_count": 31,
   "outputs": [],
   "source": [
    "def read_data():\n",
    "    data = []\n",
    "    target = []\n",
    "    for filename in os.listdir(data_directory):\n",
    "        if filename.endswith('.txt'):\n",
    "            file_id = int(filename.split('-')[-1].split('.')[0])\n",
    "            if int(file_id) in labels_dict:\n",
    "                file_path = os.path.join(data_directory, filename)\n",
    "                matrix = read_matrix_from_file(file_path)\n",
    "                data.append(matrix.flatten())\n",
    "                label = labels_dict[file_id]\n",
    "                if label == \"CONTROL\":\n",
    "                    target.append(0)\n",
    "                else:\n",
    "                    target.append(1)\n",
    "            else:\n",
    "                raise Exception(f'{file_id} not in labels_dict')\n",
    "    return data, target"
   ],
   "metadata": {
    "collapsed": false
   }
  },
  {
   "cell_type": "code",
   "execution_count": 61,
   "outputs": [],
   "source": [
    "data, target = read_data()"
   ],
   "metadata": {
    "collapsed": false
   }
  },
  {
   "cell_type": "code",
   "execution_count": 62,
   "outputs": [
    {
     "name": "stdout",
     "output_type": "stream",
     "text": [
      "Current dataset\n",
      "Deleted file: size:12544, idx:27, label:0\n",
      "Deleted file: size:12544, idx:58, label:1\n",
      "Deleted file: size:12769, idx:63, label:0\n",
      "Count of 0: 29\n",
      "Count of 1: 43\n"
     ]
    }
   ],
   "source": [
    "print(\"Current dataset\")\n",
    "for idx, d in enumerate(data):\n",
    "    if len(d) != 13689:\n",
    "        print(f'Deleted file: size:{len(d)}, idx:{idx}, label:{target[idx]}')\n",
    "        del data[idx]\n",
    "        del target[idx]\n",
    "\n",
    "unique_values = set(target)\n",
    "for val in unique_values:\n",
    "    count = target.count(val)\n",
    "    print(f\"Count of {val}: {count}\")"
   ],
   "metadata": {
    "collapsed": false
   }
  },
  {
   "cell_type": "code",
   "execution_count": 63,
   "outputs": [
    {
     "name": "stdout",
     "output_type": "stream",
     "text": [
      "57 57\n",
      "15 15\n"
     ]
    }
   ],
   "source": [
    "X_train, X_test, y_train, y_test = train_test_split(data, target, test_size=0.2, random_state=42)\n",
    "print(len(X_train),len(y_train))\n",
    "print(len(X_test),len(y_test))"
   ],
   "metadata": {
    "collapsed": false
   }
  },
  {
   "cell_type": "code",
   "execution_count": 58,
   "metadata": {
    "collapsed": true
   },
   "outputs": [
    {
     "data": {
      "text/plain": "SVC()"
     },
     "execution_count": 58,
     "metadata": {},
     "output_type": "execute_result"
    }
   ],
   "source": [
    "svm_model = svm.SVC()\n",
    "svm_model.fit(X_train, y_train)"
   ]
  },
  {
   "cell_type": "code",
   "execution_count": 59,
   "outputs": [],
   "source": [
    "y_pred = svm_model.predict(X_test)"
   ],
   "metadata": {
    "collapsed": false
   }
  },
  {
   "cell_type": "code",
   "execution_count": 60,
   "outputs": [
    {
     "name": "stdout",
     "output_type": "stream",
     "text": [
      "Accuracy: 0.5333333333333333\n",
      "Precision: 0.5333333333333333\n",
      "Recall: 1.0\n",
      "F1 Score: 0.6956521739130436\n",
      "Confusion Matrix:\n",
      " [[0 7]\n",
      " [0 8]]\n"
     ]
    }
   ],
   "source": [
    "accuracy = accuracy_score(y_test, y_pred)\n",
    "precision = precision_score(y_test, y_pred)\n",
    "recall = recall_score(y_test, y_pred)\n",
    "f1 = f1_score(y_test, y_pred)\n",
    "conf_matrix = confusion_matrix(y_test, y_pred)\n",
    "\n",
    "print(\"Accuracy:\", accuracy)\n",
    "print(\"Precision:\", precision)\n",
    "print(\"Recall:\", recall)\n",
    "print(\"F1 Score:\", f1)\n",
    "print(\"Confusion Matrix:\\n\", conf_matrix)"
   ],
   "metadata": {
    "collapsed": false
   }
  },
  {
   "cell_type": "code",
   "execution_count": null,
   "outputs": [],
   "source": [],
   "metadata": {
    "collapsed": false,
    "pycharm": {
     "is_executing": true
    }
   }
  },
  {
   "cell_type": "code",
   "execution_count": 50,
   "outputs": [],
   "source": [],
   "metadata": {
    "collapsed": false
   }
  }
 ],
 "metadata": {
  "kernelspec": {
   "display_name": "Python 3",
   "language": "python",
   "name": "python3"
  },
  "language_info": {
   "codemirror_mode": {
    "name": "ipython",
    "version": 2
   },
   "file_extension": ".py",
   "mimetype": "text/x-python",
   "name": "python",
   "nbconvert_exporter": "python",
   "pygments_lexer": "ipython2",
   "version": "2.7.6"
  }
 },
 "nbformat": 4,
 "nbformat_minor": 0
}
