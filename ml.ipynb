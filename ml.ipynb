{
  "cells": [
    {
      "cell_type": "code",
      "execution_count": 2,
      "outputs": [],
      "source": [
        "import os\n",
        "\n",
        "import numpy as np\n",
        "import pandas as pd\n",
        "from sklearn import svm\n",
        "from sklearn.metrics import accuracy_score, precision_score, recall_score, f1_score, confusion_matrix\n",
        "from sklearn.model_selection import train_test_split"
      ],
      "metadata": {
        "id": "f9TvAORdObkO"
      }
    },
    {
      "cell_type": "code",
      "execution_count": 3,
      "outputs": [],
      "source": [
        "labels_file = 'Data/participants.tsv'\n",
        "data_directory = 'cc_matrices/'"
      ],
      "metadata": {
        "id": "DhXr14yqObkQ"
      }
    },
    {
      "cell_type": "code",
      "execution_count": 4,
      "outputs": [],
      "source": [
        "def read_matrix_from_file(file_path):\n",
        "    with open(file_path, 'r') as file:\n",
        "        content = file.readlines()\n",
        "        matrix = []\n",
        "        for line in content:\n",
        "            values = line.rstrip().split(',')\n",
        "            row = []\n",
        "            for val in values:\n",
        "                if val.strip():\n",
        "                    try:\n",
        "                        row.append(float(val))\n",
        "                    except ValueError:\n",
        "                        print(f\"Warning: Non-numeric value '{val}' found. Skipping.\")\n",
        "            if row:\n",
        "                matrix.append(row)\n",
        "    return np.array(matrix)"
      ],
      "metadata": {
        "id": "7hn0ZYoeObkS"
      }
    },
    {
      "cell_type": "code",
      "execution_count": 7,
      "outputs": [
        {
          "output_type": "stream",
          "name": "stdout",
          "text": [
            "Unique Labels: ['CONTROL', 'ADHD', 'BIPOLAR', 'SCHZ']\n",
            "Labels:\n",
            " {10159: 0, 10171: 0, 10189: 0, 10193: 0, 10206: 0, 10217: 0, 10225: 0, 10227: 0, 10228: 0, 10235: 0, 10249: 0, 10269: 0, 10271: 0, 10273: 0, 10274: 0, 10280: 0, 10290: 0, 10292: 0, 10299: 0, 10304: 0, 10316: 0, 10321: 0, 10325: 0, 10329: 0, 10339: 0, 10340: 0, 10345: 0, 10347: 0, 10356: 0, 10361: 0, 10365: 0, 10376: 0, 10377: 0, 10388: 0, 10428: 0, 10429: 0, 10438: 0, 10440: 0, 10448: 0, 10455: 0, 10460: 0, 10471: 0, 10478: 0, 10487: 0, 10492: 0, 10501: 0, 10506: 0, 10517: 0, 10523: 0, 10524: 0, 10525: 0, 10527: 0, 10530: 0, 10557: 0, 10565: 0, 10570: 0, 10575: 0, 10624: 0, 10629: 0, 10631: 0, 10638: 0, 10668: 0, 10672: 0, 10674: 0, 10678: 0, 10680: 0, 10686: 0, 10692: 0, 10696: 0, 10697: 0, 10704: 0, 10707: 0, 10708: 0, 10719: 0, 10724: 0, 10746: 0, 10762: 0, 10779: 0, 10785: 0, 10788: 0, 10844: 0, 10855: 0, 10871: 0, 10877: 0, 10882: 0, 10891: 0, 10893: 0, 10912: 0, 10934: 0, 10940: 0, 10948: 0, 10949: 0, 10958: 0, 10963: 0, 10968: 0, 10971: 0, 10975: 0, 10977: 0, 10987: 0, 10998: 0, 11019: 0, 11030: 0, 11044: 0, 11050: 0, 11052: 0, 11059: 0, 11061: 0, 11062: 0, 11066: 0, 11067: 0, 11068: 0, 11077: 0, 11082: 0, 11088: 0, 11090: 0, 11097: 0, 11098: 0, 11104: 0, 11105: 0, 11106: 0, 11108: 0, 11112: 0, 11121: 0, 11122: 0, 11128: 0, 11131: 0, 11142: 0, 11143: 0, 11149: 0, 11156: 0, 50004: 3, 50005: 3, 50006: 3, 50007: 3, 50008: 3, 50010: 3, 50013: 3, 50014: 3, 50015: 3, 50016: 3, 50020: 3, 50021: 3, 50022: 3, 50023: 3, 50025: 3, 50027: 3, 50029: 3, 50032: 3, 50033: 3, 50034: 3, 50035: 3, 50036: 3, 50038: 3, 50043: 3, 50047: 3, 50048: 3, 50049: 3, 50050: 3, 50051: 3, 50052: 3, 50053: 3, 50054: 3, 50055: 3, 50056: 3, 50058: 3, 50059: 3, 50060: 3, 50061: 3, 50064: 3, 50066: 3, 50067: 3, 50069: 3, 50073: 3, 50075: 3, 50076: 3, 50077: 3, 50080: 3, 50081: 3, 50083: 3, 50085: 3, 60001: 2, 60005: 2, 60006: 2, 60008: 2, 60010: 2, 60011: 2, 60012: 2, 60014: 2, 60015: 2, 60016: 2, 60017: 2, 60020: 2, 60021: 2, 60022: 2, 60028: 2, 60030: 2, 60033: 2, 60036: 2, 60037: 2, 60038: 2, 60042: 2, 60043: 2, 60045: 2, 60046: 2, 60048: 2, 60049: 2, 60051: 2, 60052: 2, 60053: 2, 60055: 2, 60056: 2, 60057: 2, 60060: 2, 60062: 2, 60065: 2, 60066: 2, 60068: 2, 60070: 2, 60072: 2, 60073: 2, 60074: 2, 60076: 2, 60077: 2, 60078: 2, 60079: 2, 60080: 2, 60084: 2, 60087: 2, 60089: 2, 70001: 1, 70002: 1, 70004: 1, 70007: 1, 70010: 1, 70015: 1, 70017: 1, 70020: 1, 70021: 1, 70022: 1, 70026: 1, 70029: 1, 70033: 1, 70034: 1, 70035: 1, 70036: 1, 70037: 1, 70040: 1, 70046: 1, 70048: 1, 70049: 1, 70051: 1, 70052: 1, 70055: 1, 70057: 1, 70058: 1, 70060: 1, 70061: 1, 70065: 1, 70068: 1, 70069: 1, 70070: 1, 70072: 1, 70073: 1, 70074: 1, 70075: 1, 70076: 1, 70077: 1, 70079: 1, 70080: 1, 70081: 1, 70083: 1, 70086: 1}\n"
          ]
        }
      ],
      "source": [
        "participant_data = pd.read_csv(labels_file, sep='\\t')\n",
        "diagnosis_data = participant_data[['participant_id', 'diagnosis']]\n",
        "unique_labels = ['CONTROL', 'ADHD', 'BIPOLAR', 'SCHZ']\n",
        "\n",
        "labels_dict = dict(zip(diagnosis_data['participant_id'], diagnosis_data['diagnosis']))\n",
        "labels_dict = {int(key.replace('sub-', '')): value for key, value in labels_dict.items()}\n",
        "label_to_number = {label: i for i, label in enumerate(unique_labels)}\n",
        "numerical_labels_dict = {participant_id: label_to_number[label] for participant_id, label in labels_dict.items()}\n",
        "\n",
        "print(\"Unique Labels:\", unique_labels)\n",
        "print(\"Labels:\\n\", numerical_labels_dict)"
      ],
      "metadata": {
        "colab": {
          "base_uri": "https://localhost:8080/"
        },
        "id": "YPDjJt6IObkT",
        "outputId": "cb87c48e-4542-47c5-ea3f-561a1e91eb4b"
      }
    },
    {
      "cell_type": "code",
      "execution_count": 8,
      "outputs": [
        {
          "output_type": "stream",
          "name": "stdout",
          "text": [
            "Whole dataset\n",
            "Counter({'CONTROL': 130, 'SCHZ': 50, 'BIPOLAR': 49, 'ADHD': 43})\n"
          ]
        }
      ],
      "source": [
        "from collections import Counter\n",
        "\n",
        "occurrences = Counter(labels_dict.values())\n",
        "print(\"Whole dataset\")\n",
        "print(occurrences)"
      ],
      "metadata": {
        "colab": {
          "base_uri": "https://localhost:8080/"
        },
        "id": "fh7WA3fjObkV",
        "outputId": "a1f75704-a525-420e-a9ee-749a6b534409"
      }
    },
    {
      "cell_type": "code",
      "execution_count": 9,
      "outputs": [],
      "source": [
        "def read_data():\n",
        "    data = []\n",
        "    target = []\n",
        "    for filename in os.listdir(data_directory):\n",
        "        if filename.endswith('.txt'):\n",
        "            file_id = int(filename.split('-')[-1].split('.')[0])\n",
        "            if int(file_id) in labels_dict:\n",
        "                file_path = os.path.join(data_directory, filename)\n",
        "                matrix = read_matrix_from_file(file_path)\n",
        "                data.append(matrix.flatten())\n",
        "                label = labels_dict[file_id]\n",
        "                if label == \"CONTROL\":\n",
        "                    target.append(0)\n",
        "                else:\n",
        "                    target.append(1)\n",
        "            else:\n",
        "                raise Exception(f'{file_id} not in labels_dict')\n",
        "    return data, target"
      ],
      "metadata": {
        "id": "DTJG0OspObkW"
      }
    },
    {
      "cell_type": "code",
      "execution_count": 10,
      "outputs": [],
      "source": [
        "data, target = read_data()"
      ],
      "metadata": {
        "id": "HRnHCjakObkX"
      }
    },
    {
      "cell_type": "code",
      "execution_count": 11,
      "outputs": [
        {
          "output_type": "stream",
          "name": "stdout",
          "text": [
            "Current dataset\n",
            "Deleted file: size:12544, idx:67, label:1\n",
            "Deleted file: size:12544, idx:69, label:0\n",
            "Deleted file: size:12769, idx:72, label:0\n",
            "Count of 0: 29\n",
            "Count of 1: 43\n"
          ]
        }
      ],
      "source": [
        "print(\"Current dataset\")\n",
        "for idx, d in enumerate(data):\n",
        "    if len(d) != 13689:\n",
        "        print(f'Deleted file: size:{len(d)}, idx:{idx}, label:{target[idx]}')\n",
        "        del data[idx]\n",
        "        del target[idx]\n",
        "\n",
        "unique_values = set(target)\n",
        "for val in unique_values:\n",
        "    count = target.count(val)\n",
        "    print(f\"Count of {val}: {count}\")\n",
        "count_1 = target.count(0)\n",
        "count_2 = target.count(1)"
      ],
      "metadata": {
        "colab": {
          "base_uri": "https://localhost:8080/"
        },
        "id": "MQKJaj9xObkY",
        "outputId": "eb38cdd6-8e0e-48ca-f850-10fbd77edfd7"
      }
    },
    {
      "cell_type": "code",
      "source": [
        "from sklearn.decomposition import PCA\n",
        "import matplotlib.pyplot as plt\n",
        "\n",
        "decompose = PCA(n_components=2)\n",
        "decompose.fit(data)\n",
        "data_2d = decompose.transform(data)\n",
        "\n",
        "plt.scatter(data_2d[:, 0], data_2d[:, 1], c=target, cmap=plt.cm.nipy_spectral, edgecolor=\"k\")"
      ],
      "metadata": {
        "colab": {
          "base_uri": "https://localhost:8080/",
          "height": 448
        },
        "id": "3WDQwEBVP57z",
        "outputId": "2a10e4ce-66bd-4de3-9059-a142c2152394"
      },
      "execution_count": 16,
      "outputs": [
        {
          "output_type": "execute_result",
          "data": {
            "text/plain": [
              "<matplotlib.collections.PathCollection at 0x7fcaf608f340>"
            ]
          },
          "metadata": {},
          "execution_count": 16
        },
        {
          "output_type": "display_data",
          "data": {
            "text/plain": [
              "<Figure size 640x480 with 1 Axes>"
            ],
            "image/png": "[encoded data removed]"
          },
          "metadata": {}
        }
      ]
    },
    {
      "cell_type": "code",
      "source": [
        "from sklearn.manifold import TSNE\n",
        "\n",
        "tsne = TSNE(n_components=2, learning_rate='auto', init='random', perplexity=3)\n",
        "data_tsne = tsne.fit_transform(np.array(data))\n",
        "\n",
        "plt.scatter(data_tsne[:, 0], data_tsne[:, 1], c=target, cmap=plt.cm.nipy_spectral, edgecolor=\"k\")"
      ],
      "metadata": {
        "colab": {
          "base_uri": "https://localhost:8080/",
          "height": 448
        },
        "id": "0wS7GFSRSmEJ",
        "outputId": "f7d4c71f-8963-439b-9150-003c39bf3b0f"
      },
      "execution_count": 20,
      "outputs": [
        {
          "output_type": "execute_result",
          "data": {
            "text/plain": [
              "<matplotlib.collections.PathCollection at 0x7fcaf5c153c0>"
            ]
          },
          "metadata": {},
          "execution_count": 20
        },
        {
          "output_type": "display_data",
          "data": {
            "text/plain": [
              "<Figure size 640x480 with 1 Axes>"
            ],
            "image/png": "[encoded data removed]"
          },
          "metadata": {}
        }
      ]
    },
    {
      "cell_type": "code",
      "execution_count": 21,
      "outputs": [
        {
          "output_type": "stream",
          "name": "stdout",
          "text": [
            "57 57\n",
            "15 15\n"
          ]
        }
      ],
      "source": [
        "X_train, X_test, y_train, y_test = train_test_split(data, target, test_size=0.2, random_state=42)\n",
        "print(len(X_train),len(y_train))\n",
        "print(len(X_test),len(y_test))"
      ],
      "metadata": {
        "colab": {
          "base_uri": "https://localhost:8080/"
        },
        "id": "8-8jotJjObkZ",
        "outputId": "a3c4723e-8296-4238-a1b4-6e5eb785d29a"
      }
    },
    {
      "cell_type": "code",
      "execution_count": 22,
      "metadata": {
        "collapsed": true,
        "colab": {
          "base_uri": "https://localhost:8080/",
          "height": 75
        },
        "id": "hzuOqNyfObkb",
        "outputId": "a99cb9a2-e8f0-4b01-cfbf-9b9e16c7ae18"
      },
      "outputs": [
        {
          "output_type": "execute_result",
          "data": {
            "text/plain": [
              "SVC(class_weight={0: 0.5972222222222222, 1: 0.4027777777777778})"
            ],
            "text/html": [
              "<style>#sk-container-id-1 {color: black;background-color: white;}#sk-container-id-1 pre{padding: 0;}#sk-container-id-1 div.sk-toggleable {background-color: white;}#sk-container-id-1 label.sk-toggleable__label {cursor: pointer;display: block;width: 100%;margin-bottom: 0;padding: 0.3em;box-sizing: border-box;text-align: center;}#sk-container-id-1 label.sk-toggleable__label-arrow:before {content: \"▸\";float: left;margin-right: 0.25em;color: #696969;}#sk-container-id-1 label.sk-toggleable__label-arrow:hover:before {color: black;}#sk-container-id-1 div.sk-estimator:hover label.sk-toggleable__label-arrow:before {color: black;}#sk-container-id-1 div.sk-toggleable__content {max-height: 0;max-width: 0;overflow: hidden;text-align: left;background-color: #f0f8ff;}#sk-container-id-1 div.sk-toggleable__content pre {margin: 0.2em;color: black;border-radius: 0.25em;background-color: #f0f8ff;}#sk-container-id-1 input.sk-toggleable__control:checked~div.sk-toggleable__content {max-height: 200px;max-width: 100%;overflow: auto;}#sk-container-id-1 input.sk-toggleable__control:checked~label.sk-toggleable__label-arrow:before {content: \"▾\";}#sk-container-id-1 div.sk-estimator input.sk-toggleable__control:checked~label.sk-toggleable__label {background-color: #d4ebff;}#sk-container-id-1 div.sk-label input.sk-toggleable__control:checked~label.sk-toggleable__label {background-color: #d4ebff;}#sk-container-id-1 input.sk-hidden--visually {border: 0;clip: rect(1px 1px 1px 1px);clip: rect(1px, 1px, 1px, 1px);height: 1px;margin: -1px;overflow: hidden;padding: 0;position: absolute;width: 1px;}#sk-container-id-1 div.sk-estimator {font-family: monospace;background-color: #f0f8ff;border: 1px dotted black;border-radius: 0.25em;box-sizing: border-box;margin-bottom: 0.5em;}#sk-container-id-1 div.sk-estimator:hover {background-color: #d4ebff;}#sk-container-id-1 div.sk-parallel-item::after {content: \"\";width: 100%;border-bottom: 1px solid gray;flex-grow: 1;}#sk-container-id-1 div.sk-label:hover label.sk-toggleable__label {background-color: #d4ebff;}#sk-container-id-1 div.sk-serial::before {content: \"\";position: absolute;border-left: 1px solid gray;box-sizing: border-box;top: 0;bottom: 0;left: 50%;z-index: 0;}#sk-container-id-1 div.sk-serial {display: flex;flex-direction: column;align-items: center;background-color: white;padding-right: 0.2em;padding-left: 0.2em;position: relative;}#sk-container-id-1 div.sk-item {position: relative;z-index: 1;}#sk-container-id-1 div.sk-parallel {display: flex;align-items: stretch;justify-content: center;background-color: white;position: relative;}#sk-container-id-1 div.sk-item::before, #sk-container-id-1 div.sk-parallel-item::before {content: \"\";position: absolute;border-left: 1px solid gray;box-sizing: border-box;top: 0;bottom: 0;left: 50%;z-index: -1;}#sk-container-id-1 div.sk-parallel-item {display: flex;flex-direction: column;z-index: 1;position: relative;background-color: white;}#sk-container-id-1 div.sk-parallel-item:first-child::after {align-self: flex-end;width: 50%;}#sk-container-id-1 div.sk-parallel-item:last-child::after {align-self: flex-start;width: 50%;}#sk-container-id-1 div.sk-parallel-item:only-child::after {width: 0;}#sk-container-id-1 div.sk-dashed-wrapped {border: 1px dashed gray;margin: 0 0.4em 0.5em 0.4em;box-sizing: border-box;padding-bottom: 0.4em;background-color: white;}#sk-container-id-1 div.sk-label label {font-family: monospace;font-weight: bold;display: inline-block;line-height: 1.2em;}#sk-container-id-1 div.sk-label-container {text-align: center;}#sk-container-id-1 div.sk-container {/* jupyter's `normalize.less` sets `[hidden] { display: none; }` but bootstrap.min.css set `[hidden] { display: none !important; }` so we also need the `!important` here to be able to override the default hidden behavior on the sphinx rendered scikit-learn.org. See: https://github.com/scikit-learn/scikit-learn/issues/21755 */display: inline-block !important;position: relative;}#sk-container-id-1 div.sk-text-repr-fallback {display: none;}</style><div id=\"sk-container-id-1\" class=\"sk-top-container\"><div class=\"sk-text-repr-fallback\"><pre>SVC(class_weight={0: 0.5972222222222222, 1: 0.4027777777777778})</pre><b>In a Jupyter environment, please rerun this cell to show the HTML representation or trust the notebook. <br />On GitHub, the HTML representation is unable to render, please try loading this page with nbviewer.org.</b></div><div class=\"sk-container\" hidden><div class=\"sk-item\"><div class=\"sk-estimator sk-toggleable\"><input class=\"sk-toggleable__control sk-hidden--visually\" id=\"sk-estimator-id-1\" type=\"checkbox\" checked><label for=\"sk-estimator-id-1\" class=\"sk-toggleable__label sk-toggleable__label-arrow\">SVC</label><div class=\"sk-toggleable__content\"><pre>SVC(class_weight={0: 0.5972222222222222, 1: 0.4027777777777778})</pre></div></div></div></div></div>"
            ]
          },
          "metadata": {},
          "execution_count": 22
        }
      ],
      "source": [
        "svm_model = svm.SVC(kernel = 'rbf', class_weight = {0: count_2 / (count_1 + count_2), 1: count_1 / (count_1 + count_2)})\n",
        "svm_model.fit(X_train, y_train)"
      ]
    },
    {
      "cell_type": "code",
      "execution_count": 25,
      "outputs": [],
      "source": [
        "y_pred = svm_model.predict(X_test)"
      ],
      "metadata": {
        "id": "wRRGpy5yObkc"
      }
    },
    {
      "cell_type": "code",
      "execution_count": 24,
      "outputs": [
        {
          "output_type": "stream",
          "name": "stdout",
          "text": [
            "Accuracy: 0.7333333333333333\n",
            "Precision: 1.0\n",
            "Recall: 0.5555555555555556\n",
            "F1 Score: 0.7142857142857143\n",
            "Confusion Matrix:\n",
            " [[6 0]\n",
            " [4 5]]\n"
          ]
        }
      ],
      "source": [
        "accuracy = accuracy_score(y_test, y_pred)\n",
        "precision = precision_score(y_test, y_pred)\n",
        "recall = recall_score(y_test, y_pred)\n",
        "f1 = f1_score(y_test, y_pred)\n",
        "conf_matrix = confusion_matrix(y_test, y_pred)\n",
        "\n",
        "print(\"Accuracy:\", accuracy)\n",
        "print(\"Precision:\", precision)\n",
        "print(\"Recall:\", recall)\n",
        "print(\"F1 Score:\", f1)\n",
        "print(\"Confusion Matrix:\\n\", conf_matrix)"
      ],
      "metadata": {
        "colab": {
          "base_uri": "https://localhost:8080/"
        },
        "id": "Ke2HUA7LObkd",
        "outputId": "b95bd048-db75-431c-dc01-5afb1df067a4"
      }
    },
    {
      "cell_type": "code",
      "source": [
        "def predict(svm_model, X_test, y_test):\n",
        "    y_pred = svm_model.predict(X_test)\n",
        "    accuracy = accuracy_score(y_test, y_pred)\n",
        "    precision = precision_score(y_test, y_pred)\n",
        "    recall = recall_score(y_test, y_pred)\n",
        "    f1 = f1_score(y_test, y_pred)\n",
        "    conf_matrix = confusion_matrix(y_test, y_pred)\n",
        "\n",
        "    print(\"Accuracy:\", accuracy)\n",
        "    print(\"Precision:\", precision)\n",
        "    print(\"Recall:\", recall)\n",
        "    print(\"F1 Score:\", f1)\n",
        "    print(\"Confusion Matrix:\\n\", conf_matrix)"
      ],
      "metadata": {
        "id": "fZAEnx0TWCfq"
      },
      "execution_count": 26,
      "outputs": []
    },
    {
      "cell_type": "code",
      "execution_count": 29,
      "outputs": [
        {
          "output_type": "stream",
          "name": "stdout",
          "text": [
            "\n",
            "kernel: linear, decision_function_shape: ovo\n",
            "Accuracy: 0.5333333333333333\n",
            "Precision: 0.5833333333333334\n",
            "Recall: 0.7777777777777778\n",
            "F1 Score: 0.6666666666666666\n",
            "Confusion Matrix:\n",
            " [[1 5]\n",
            " [2 7]]\n",
            "\n",
            "kernel: linear, decision_function_shape: ovr\n",
            "Accuracy: 0.5333333333333333\n",
            "Precision: 0.5833333333333334\n",
            "Recall: 0.7777777777777778\n",
            "F1 Score: 0.6666666666666666\n",
            "Confusion Matrix:\n",
            " [[1 5]\n",
            " [2 7]]\n",
            "\n",
            "kernel: poly, decision_function_shape: ovo, gamma: scale, degree: 2\n",
            "Accuracy: 0.6\n",
            "Precision: 0.7142857142857143\n",
            "Recall: 0.5555555555555556\n",
            "F1 Score: 0.6250000000000001\n",
            "Confusion Matrix:\n",
            " [[4 2]\n",
            " [4 5]]\n",
            "\n",
            "kernel: poly, decision_function_shape: ovo, gamma: scale, degree: 3\n",
            "Accuracy: 0.6666666666666666\n",
            "Precision: 0.8333333333333334\n",
            "Recall: 0.5555555555555556\n",
            "F1 Score: 0.6666666666666667\n",
            "Confusion Matrix:\n",
            " [[5 1]\n",
            " [4 5]]\n",
            "\n",
            "kernel: poly, decision_function_shape: ovo, gamma: scale, degree: 5\n",
            "Accuracy: 0.7333333333333333\n",
            "Precision: 1.0\n",
            "Recall: 0.5555555555555556\n",
            "F1 Score: 0.7142857142857143\n",
            "Confusion Matrix:\n",
            " [[6 0]\n",
            " [4 5]]\n",
            "\n",
            "kernel: poly, decision_function_shape: ovo, gamma: scale, degree: 10\n",
            "Accuracy: 0.7333333333333333\n",
            "Precision: 1.0\n",
            "Recall: 0.5555555555555556\n",
            "F1 Score: 0.7142857142857143\n",
            "Confusion Matrix:\n",
            " [[6 0]\n",
            " [4 5]]\n",
            "\n",
            "kernel: poly, decision_function_shape: ovo, gamma: 0.1, degree: 2\n",
            "Accuracy: 0.5333333333333333\n",
            "Precision: 0.6\n",
            "Recall: 0.6666666666666666\n",
            "F1 Score: 0.631578947368421\n",
            "Confusion Matrix:\n",
            " [[2 4]\n",
            " [3 6]]\n",
            "\n",
            "kernel: poly, decision_function_shape: ovo, gamma: 0.1, degree: 3\n",
            "Accuracy: 0.5333333333333333\n",
            "Precision: 0.6\n",
            "Recall: 0.6666666666666666\n",
            "F1 Score: 0.631578947368421\n",
            "Confusion Matrix:\n",
            " [[2 4]\n",
            " [3 6]]\n",
            "\n",
            "kernel: poly, decision_function_shape: ovo, gamma: 0.1, degree: 5\n",
            "Accuracy: 0.4666666666666667\n",
            "Precision: 0.5555555555555556\n",
            "Recall: 0.5555555555555556\n",
            "F1 Score: 0.5555555555555556\n",
            "Confusion Matrix:\n",
            " [[2 4]\n",
            " [4 5]]\n",
            "\n",
            "kernel: poly, decision_function_shape: ovo, gamma: 0.1, degree: 10\n",
            "Incorrect parameters.\n",
            "\n",
            "kernel: poly, decision_function_shape: ovo, gamma: 0.5, degree: 2\n",
            "Accuracy: 0.5333333333333333\n",
            "Precision: 0.6\n",
            "Recall: 0.6666666666666666\n",
            "F1 Score: 0.631578947368421\n",
            "Confusion Matrix:\n",
            " [[2 4]\n",
            " [3 6]]\n",
            "\n",
            "kernel: poly, decision_function_shape: ovo, gamma: 0.5, degree: 3\n",
            "Accuracy: 0.5333333333333333\n",
            "Precision: 0.6\n",
            "Recall: 0.6666666666666666\n",
            "F1 Score: 0.631578947368421\n",
            "Confusion Matrix:\n",
            " [[2 4]\n",
            " [3 6]]\n",
            "\n",
            "kernel: poly, decision_function_shape: ovo, gamma: 0.5, degree: 5\n",
            "Accuracy: 0.4666666666666667\n",
            "Precision: 0.5555555555555556\n",
            "Recall: 0.5555555555555556\n",
            "F1 Score: 0.5555555555555556\n",
            "Confusion Matrix:\n",
            " [[2 4]\n",
            " [4 5]]\n",
            "\n",
            "kernel: poly, decision_function_shape: ovo, gamma: 0.5, degree: 10\n",
            "Incorrect parameters.\n",
            "\n",
            "kernel: poly, decision_function_shape: ovo, gamma: 1.0, degree: 2\n",
            "Accuracy: 0.5333333333333333\n",
            "Precision: 0.6\n",
            "Recall: 0.6666666666666666\n",
            "F1 Score: 0.631578947368421\n",
            "Confusion Matrix:\n",
            " [[2 4]\n",
            " [3 6]]\n",
            "\n",
            "kernel: poly, decision_function_shape: ovo, gamma: 1.0, degree: 3\n",
            "Accuracy: 0.5333333333333333\n",
            "Precision: 0.6\n",
            "Recall: 0.6666666666666666\n",
            "F1 Score: 0.631578947368421\n",
            "Confusion Matrix:\n",
            " [[2 4]\n",
            " [3 6]]\n",
            "\n",
            "kernel: poly, decision_function_shape: ovo, gamma: 1.0, degree: 5\n",
            "Accuracy: 0.4666666666666667\n",
            "Precision: 0.5555555555555556\n",
            "Recall: 0.5555555555555556\n",
            "F1 Score: 0.5555555555555556\n",
            "Confusion Matrix:\n",
            " [[2 4]\n",
            " [4 5]]\n",
            "\n",
            "kernel: poly, decision_function_shape: ovo, gamma: 1.0, degree: 10\n",
            "Incorrect parameters.\n",
            "\n",
            "kernel: poly, decision_function_shape: ovo, gamma: 2.0, degree: 2\n",
            "Accuracy: 0.5333333333333333\n",
            "Precision: 0.6\n",
            "Recall: 0.6666666666666666\n",
            "F1 Score: 0.631578947368421\n",
            "Confusion Matrix:\n",
            " [[2 4]\n",
            " [3 6]]\n",
            "\n",
            "kernel: poly, decision_function_shape: ovo, gamma: 2.0, degree: 3\n",
            "Accuracy: 0.5333333333333333\n",
            "Precision: 0.6\n",
            "Recall: 0.6666666666666666\n",
            "F1 Score: 0.631578947368421\n",
            "Confusion Matrix:\n",
            " [[2 4]\n",
            " [3 6]]\n",
            "\n",
            "kernel: poly, decision_function_shape: ovo, gamma: 2.0, degree: 5\n",
            "Accuracy: 0.4666666666666667\n",
            "Precision: 0.5555555555555556\n",
            "Recall: 0.5555555555555556\n",
            "F1 Score: 0.5555555555555556\n",
            "Confusion Matrix:\n",
            " [[2 4]\n",
            " [4 5]]\n",
            "\n",
            "kernel: poly, decision_function_shape: ovo, gamma: 2.0, degree: 10\n",
            "Incorrect parameters.\n",
            "\n",
            "kernel: poly, decision_function_shape: ovo, gamma: 10.0, degree: 2\n",
            "Accuracy: 0.5333333333333333\n",
            "Precision: 0.6\n",
            "Recall: 0.6666666666666666\n",
            "F1 Score: 0.631578947368421\n",
            "Confusion Matrix:\n",
            " [[2 4]\n",
            " [3 6]]\n",
            "\n",
            "kernel: poly, decision_function_shape: ovo, gamma: 10.0, degree: 3\n",
            "Accuracy: 0.5333333333333333\n",
            "Precision: 0.6\n",
            "Recall: 0.6666666666666666\n",
            "F1 Score: 0.631578947368421\n",
            "Confusion Matrix:\n",
            " [[2 4]\n",
            " [3 6]]\n",
            "\n",
            "kernel: poly, decision_function_shape: ovo, gamma: 10.0, degree: 5\n",
            "Accuracy: 0.4666666666666667\n",
            "Precision: 0.5555555555555556\n",
            "Recall: 0.5555555555555556\n",
            "F1 Score: 0.5555555555555556\n",
            "Confusion Matrix:\n",
            " [[2 4]\n",
            " [4 5]]\n",
            "\n",
            "kernel: poly, decision_function_shape: ovo, gamma: 10.0, degree: 10\n",
            "Incorrect parameters.\n",
            "\n",
            "kernel: poly, decision_function_shape: ovr, gamma: scale, degree: 2\n",
            "Accuracy: 0.6\n",
            "Precision: 0.7142857142857143\n",
            "Recall: 0.5555555555555556\n",
            "F1 Score: 0.6250000000000001\n",
            "Confusion Matrix:\n",
            " [[4 2]\n",
            " [4 5]]\n",
            "\n",
            "kernel: poly, decision_function_shape: ovr, gamma: scale, degree: 3\n",
            "Accuracy: 0.6666666666666666\n",
            "Precision: 0.8333333333333334\n",
            "Recall: 0.5555555555555556\n",
            "F1 Score: 0.6666666666666667\n",
            "Confusion Matrix:\n",
            " [[5 1]\n",
            " [4 5]]\n",
            "\n",
            "kernel: poly, decision_function_shape: ovr, gamma: scale, degree: 5\n",
            "Accuracy: 0.7333333333333333\n",
            "Precision: 1.0\n",
            "Recall: 0.5555555555555556\n",
            "F1 Score: 0.7142857142857143\n",
            "Confusion Matrix:\n",
            " [[6 0]\n",
            " [4 5]]\n",
            "\n",
            "kernel: poly, decision_function_shape: ovr, gamma: scale, degree: 10\n",
            "Accuracy: 0.7333333333333333\n",
            "Precision: 1.0\n",
            "Recall: 0.5555555555555556\n",
            "F1 Score: 0.7142857142857143\n",
            "Confusion Matrix:\n",
            " [[6 0]\n",
            " [4 5]]\n",
            "\n",
            "kernel: poly, decision_function_shape: ovr, gamma: 0.1, degree: 2\n",
            "Accuracy: 0.5333333333333333\n",
            "Precision: 0.6\n",
            "Recall: 0.6666666666666666\n",
            "F1 Score: 0.631578947368421\n",
            "Confusion Matrix:\n",
            " [[2 4]\n",
            " [3 6]]\n",
            "\n",
            "kernel: poly, decision_function_shape: ovr, gamma: 0.1, degree: 3\n",
            "Accuracy: 0.5333333333333333\n",
            "Precision: 0.6\n",
            "Recall: 0.6666666666666666\n",
            "F1 Score: 0.631578947368421\n",
            "Confusion Matrix:\n",
            " [[2 4]\n",
            " [3 6]]\n",
            "\n",
            "kernel: poly, decision_function_shape: ovr, gamma: 0.1, degree: 5\n",
            "Accuracy: 0.4666666666666667\n",
            "Precision: 0.5555555555555556\n",
            "Recall: 0.5555555555555556\n",
            "F1 Score: 0.5555555555555556\n",
            "Confusion Matrix:\n",
            " [[2 4]\n",
            " [4 5]]\n",
            "\n",
            "kernel: poly, decision_function_shape: ovr, gamma: 0.1, degree: 10\n",
            "Incorrect parameters.\n",
            "\n",
            "kernel: poly, decision_function_shape: ovr, gamma: 0.5, degree: 2\n",
            "Accuracy: 0.5333333333333333\n",
            "Precision: 0.6\n",
            "Recall: 0.6666666666666666\n",
            "F1 Score: 0.631578947368421\n",
            "Confusion Matrix:\n",
            " [[2 4]\n",
            " [3 6]]\n",
            "\n",
            "kernel: poly, decision_function_shape: ovr, gamma: 0.5, degree: 3\n",
            "Accuracy: 0.5333333333333333\n",
            "Precision: 0.6\n",
            "Recall: 0.6666666666666666\n",
            "F1 Score: 0.631578947368421\n",
            "Confusion Matrix:\n",
            " [[2 4]\n",
            " [3 6]]\n",
            "\n",
            "kernel: poly, decision_function_shape: ovr, gamma: 0.5, degree: 5\n",
            "Accuracy: 0.4666666666666667\n",
            "Precision: 0.5555555555555556\n",
            "Recall: 0.5555555555555556\n",
            "F1 Score: 0.5555555555555556\n",
            "Confusion Matrix:\n",
            " [[2 4]\n",
            " [4 5]]\n",
            "\n",
            "kernel: poly, decision_function_shape: ovr, gamma: 0.5, degree: 10\n",
            "Incorrect parameters.\n",
            "\n",
            "kernel: poly, decision_function_shape: ovr, gamma: 1.0, degree: 2\n",
            "Accuracy: 0.5333333333333333\n",
            "Precision: 0.6\n",
            "Recall: 0.6666666666666666\n",
            "F1 Score: 0.631578947368421\n",
            "Confusion Matrix:\n",
            " [[2 4]\n",
            " [3 6]]\n",
            "\n",
            "kernel: poly, decision_function_shape: ovr, gamma: 1.0, degree: 3\n",
            "Accuracy: 0.5333333333333333\n",
            "Precision: 0.6\n",
            "Recall: 0.6666666666666666\n",
            "F1 Score: 0.631578947368421\n",
            "Confusion Matrix:\n",
            " [[2 4]\n",
            " [3 6]]\n",
            "\n",
            "kernel: poly, decision_function_shape: ovr, gamma: 1.0, degree: 5\n",
            "Accuracy: 0.4666666666666667\n",
            "Precision: 0.5555555555555556\n",
            "Recall: 0.5555555555555556\n",
            "F1 Score: 0.5555555555555556\n",
            "Confusion Matrix:\n",
            " [[2 4]\n",
            " [4 5]]\n",
            "\n",
            "kernel: poly, decision_function_shape: ovr, gamma: 1.0, degree: 10\n",
            "Incorrect parameters.\n",
            "\n",
            "kernel: poly, decision_function_shape: ovr, gamma: 2.0, degree: 2\n",
            "Accuracy: 0.5333333333333333\n",
            "Precision: 0.6\n",
            "Recall: 0.6666666666666666\n",
            "F1 Score: 0.631578947368421\n",
            "Confusion Matrix:\n",
            " [[2 4]\n",
            " [3 6]]\n",
            "\n",
            "kernel: poly, decision_function_shape: ovr, gamma: 2.0, degree: 3\n",
            "Accuracy: 0.5333333333333333\n",
            "Precision: 0.6\n",
            "Recall: 0.6666666666666666\n",
            "F1 Score: 0.631578947368421\n",
            "Confusion Matrix:\n",
            " [[2 4]\n",
            " [3 6]]\n",
            "\n",
            "kernel: poly, decision_function_shape: ovr, gamma: 2.0, degree: 5\n",
            "Accuracy: 0.4666666666666667\n",
            "Precision: 0.5555555555555556\n",
            "Recall: 0.5555555555555556\n",
            "F1 Score: 0.5555555555555556\n",
            "Confusion Matrix:\n",
            " [[2 4]\n",
            " [4 5]]\n",
            "\n",
            "kernel: poly, decision_function_shape: ovr, gamma: 2.0, degree: 10\n",
            "Incorrect parameters.\n",
            "\n",
            "kernel: poly, decision_function_shape: ovr, gamma: 10.0, degree: 2\n",
            "Accuracy: 0.5333333333333333\n",
            "Precision: 0.6\n",
            "Recall: 0.6666666666666666\n",
            "F1 Score: 0.631578947368421\n",
            "Confusion Matrix:\n",
            " [[2 4]\n",
            " [3 6]]\n",
            "\n",
            "kernel: poly, decision_function_shape: ovr, gamma: 10.0, degree: 3\n",
            "Accuracy: 0.5333333333333333\n",
            "Precision: 0.6\n",
            "Recall: 0.6666666666666666\n",
            "F1 Score: 0.631578947368421\n",
            "Confusion Matrix:\n",
            " [[2 4]\n",
            " [3 6]]\n",
            "\n",
            "kernel: poly, decision_function_shape: ovr, gamma: 10.0, degree: 5\n",
            "Accuracy: 0.4666666666666667\n",
            "Precision: 0.5555555555555556\n",
            "Recall: 0.5555555555555556\n",
            "F1 Score: 0.5555555555555556\n",
            "Confusion Matrix:\n",
            " [[2 4]\n",
            " [4 5]]\n",
            "\n",
            "kernel: poly, decision_function_shape: ovr, gamma: 10.0, degree: 10\n",
            "Incorrect parameters.\n",
            "\n",
            "kernel: rbf, decision_function_shape: ovo, gamma: scale\n",
            "Accuracy: 0.7333333333333333\n",
            "Precision: 1.0\n",
            "Recall: 0.5555555555555556\n",
            "F1 Score: 0.7142857142857143\n",
            "Confusion Matrix:\n",
            " [[6 0]\n",
            " [4 5]]\n",
            "\n",
            "kernel: rbf, decision_function_shape: ovo, gamma: 0.1\n",
            "Accuracy: 0.4\n",
            "Precision: 0.0\n",
            "Recall: 0.0\n",
            "F1 Score: 0.0\n",
            "Confusion Matrix:\n",
            " [[6 0]\n",
            " [9 0]]\n",
            "\n",
            "kernel: rbf, decision_function_shape: ovo, gamma: 0.5\n",
            "Accuracy: 0.4\n",
            "Precision: 0.0\n",
            "Recall: 0.0\n",
            "F1 Score: 0.0\n",
            "Confusion Matrix:\n",
            " [[6 0]\n",
            " [9 0]]\n",
            "\n",
            "kernel: rbf, decision_function_shape: ovo, gamma: 1.0\n",
            "Accuracy: 0.4\n",
            "Precision: 0.0\n",
            "Recall: 0.0\n",
            "F1 Score: 0.0\n",
            "Confusion Matrix:\n",
            " [[6 0]\n",
            " [9 0]]\n",
            "\n",
            "kernel: rbf, decision_function_shape: ovo, gamma: 2.0\n"
          ]
        },
        {
          "output_type": "stream",
          "name": "stderr",
          "text": [
            "/usr/local/lib/python3.10/dist-packages/sklearn/metrics/_classification.py:1344: UndefinedMetricWarning: Precision is ill-defined and being set to 0.0 due to no predicted samples. Use `zero_division` parameter to control this behavior.\n",
            "  _warn_prf(average, modifier, msg_start, len(result))\n",
            "/usr/local/lib/python3.10/dist-packages/sklearn/metrics/_classification.py:1344: UndefinedMetricWarning: Precision is ill-defined and being set to 0.0 due to no predicted samples. Use `zero_division` parameter to control this behavior.\n",
            "  _warn_prf(average, modifier, msg_start, len(result))\n",
            "/usr/local/lib/python3.10/dist-packages/sklearn/metrics/_classification.py:1344: UndefinedMetricWarning: Precision is ill-defined and being set to 0.0 due to no predicted samples. Use `zero_division` parameter to control this behavior.\n",
            "  _warn_prf(average, modifier, msg_start, len(result))\n",
            "/usr/local/lib/python3.10/dist-packages/sklearn/metrics/_classification.py:1344: UndefinedMetricWarning: Precision is ill-defined and being set to 0.0 due to no predicted samples. Use `zero_division` parameter to control this behavior.\n",
            "  _warn_prf(average, modifier, msg_start, len(result))\n"
          ]
        },
        {
          "output_type": "stream",
          "name": "stdout",
          "text": [
            "Accuracy: 0.4\n",
            "Precision: 0.0\n",
            "Recall: 0.0\n",
            "F1 Score: 0.0\n",
            "Confusion Matrix:\n",
            " [[6 0]\n",
            " [9 0]]\n",
            "\n",
            "kernel: rbf, decision_function_shape: ovo, gamma: 10.0\n",
            "Accuracy: 0.4\n",
            "Precision: 0.0\n",
            "Recall: 0.0\n",
            "F1 Score: 0.0\n",
            "Confusion Matrix:\n",
            " [[6 0]\n",
            " [9 0]]\n",
            "\n",
            "kernel: rbf, decision_function_shape: ovr, gamma: scale\n",
            "Accuracy: 0.7333333333333333\n",
            "Precision: 1.0\n",
            "Recall: 0.5555555555555556\n",
            "F1 Score: 0.7142857142857143\n",
            "Confusion Matrix:\n",
            " [[6 0]\n",
            " [4 5]]\n",
            "\n",
            "kernel: rbf, decision_function_shape: ovr, gamma: 0.1\n",
            "Accuracy: 0.4\n",
            "Precision: 0.0\n",
            "Recall: 0.0\n",
            "F1 Score: 0.0\n",
            "Confusion Matrix:\n",
            " [[6 0]\n",
            " [9 0]]\n",
            "\n",
            "kernel: rbf, decision_function_shape: ovr, gamma: 0.5\n"
          ]
        },
        {
          "output_type": "stream",
          "name": "stderr",
          "text": [
            "/usr/local/lib/python3.10/dist-packages/sklearn/metrics/_classification.py:1344: UndefinedMetricWarning: Precision is ill-defined and being set to 0.0 due to no predicted samples. Use `zero_division` parameter to control this behavior.\n",
            "  _warn_prf(average, modifier, msg_start, len(result))\n",
            "/usr/local/lib/python3.10/dist-packages/sklearn/metrics/_classification.py:1344: UndefinedMetricWarning: Precision is ill-defined and being set to 0.0 due to no predicted samples. Use `zero_division` parameter to control this behavior.\n",
            "  _warn_prf(average, modifier, msg_start, len(result))\n",
            "/usr/local/lib/python3.10/dist-packages/sklearn/metrics/_classification.py:1344: UndefinedMetricWarning: Precision is ill-defined and being set to 0.0 due to no predicted samples. Use `zero_division` parameter to control this behavior.\n",
            "  _warn_prf(average, modifier, msg_start, len(result))\n"
          ]
        },
        {
          "output_type": "stream",
          "name": "stdout",
          "text": [
            "Accuracy: 0.4\n",
            "Precision: 0.0\n",
            "Recall: 0.0\n",
            "F1 Score: 0.0\n",
            "Confusion Matrix:\n",
            " [[6 0]\n",
            " [9 0]]\n",
            "\n",
            "kernel: rbf, decision_function_shape: ovr, gamma: 1.0\n",
            "Accuracy: 0.4\n",
            "Precision: 0.0\n",
            "Recall: 0.0\n",
            "F1 Score: 0.0\n",
            "Confusion Matrix:\n",
            " [[6 0]\n",
            " [9 0]]\n",
            "\n",
            "kernel: rbf, decision_function_shape: ovr, gamma: 2.0\n",
            "Accuracy: 0.4\n",
            "Precision: 0.0\n",
            "Recall: 0.0\n",
            "F1 Score: 0.0\n",
            "Confusion Matrix:\n",
            " [[6 0]\n",
            " [9 0]]\n",
            "\n",
            "kernel: rbf, decision_function_shape: ovr, gamma: 10.0\n",
            "Accuracy: 0.4\n",
            "Precision: 0.0\n",
            "Recall: 0.0\n",
            "F1 Score: 0.0\n",
            "Confusion Matrix:\n",
            " [[6 0]\n",
            " [9 0]]\n",
            "\n",
            "kernel: sigmoid, decision_function_shape: ovo, gamma: scale\n"
          ]
        },
        {
          "output_type": "stream",
          "name": "stderr",
          "text": [
            "/usr/local/lib/python3.10/dist-packages/sklearn/metrics/_classification.py:1344: UndefinedMetricWarning: Precision is ill-defined and being set to 0.0 due to no predicted samples. Use `zero_division` parameter to control this behavior.\n",
            "  _warn_prf(average, modifier, msg_start, len(result))\n",
            "/usr/local/lib/python3.10/dist-packages/sklearn/metrics/_classification.py:1344: UndefinedMetricWarning: Precision is ill-defined and being set to 0.0 due to no predicted samples. Use `zero_division` parameter to control this behavior.\n",
            "  _warn_prf(average, modifier, msg_start, len(result))\n",
            "/usr/local/lib/python3.10/dist-packages/sklearn/metrics/_classification.py:1344: UndefinedMetricWarning: Precision is ill-defined and being set to 0.0 due to no predicted samples. Use `zero_division` parameter to control this behavior.\n",
            "  _warn_prf(average, modifier, msg_start, len(result))\n",
            "/usr/local/lib/python3.10/dist-packages/sklearn/metrics/_classification.py:1344: UndefinedMetricWarning: Precision is ill-defined and being set to 0.0 due to no predicted samples. Use `zero_division` parameter to control this behavior.\n",
            "  _warn_prf(average, modifier, msg_start, len(result))\n",
            "/usr/local/lib/python3.10/dist-packages/sklearn/metrics/_classification.py:1344: UndefinedMetricWarning: Precision is ill-defined and being set to 0.0 due to no predicted samples. Use `zero_division` parameter to control this behavior.\n",
            "  _warn_prf(average, modifier, msg_start, len(result))\n",
            "/usr/local/lib/python3.10/dist-packages/sklearn/metrics/_classification.py:1344: UndefinedMetricWarning: Precision is ill-defined and being set to 0.0 due to no predicted samples. Use `zero_division` parameter to control this behavior.\n",
            "  _warn_prf(average, modifier, msg_start, len(result))\n",
            "/usr/local/lib/python3.10/dist-packages/sklearn/metrics/_classification.py:1344: UndefinedMetricWarning: Precision is ill-defined and being set to 0.0 due to no predicted samples. Use `zero_division` parameter to control this behavior.\n",
            "  _warn_prf(average, modifier, msg_start, len(result))\n",
            "/usr/local/lib/python3.10/dist-packages/sklearn/metrics/_classification.py:1344: UndefinedMetricWarning: Precision is ill-defined and being set to 0.0 due to no predicted samples. Use `zero_division` parameter to control this behavior.\n",
            "  _warn_prf(average, modifier, msg_start, len(result))\n"
          ]
        },
        {
          "output_type": "stream",
          "name": "stdout",
          "text": [
            "Accuracy: 0.4\n",
            "Precision: 0.0\n",
            "Recall: 0.0\n",
            "F1 Score: 0.0\n",
            "Confusion Matrix:\n",
            " [[6 0]\n",
            " [9 0]]\n",
            "\n",
            "kernel: sigmoid, decision_function_shape: ovo, gamma: 0.1\n",
            "Accuracy: 0.4\n",
            "Precision: 0.0\n",
            "Recall: 0.0\n",
            "F1 Score: 0.0\n",
            "Confusion Matrix:\n",
            " [[6 0]\n",
            " [9 0]]\n",
            "\n",
            "kernel: sigmoid, decision_function_shape: ovo, gamma: 0.5\n",
            "Accuracy: 0.4\n",
            "Precision: 0.0\n",
            "Recall: 0.0\n",
            "F1 Score: 0.0\n",
            "Confusion Matrix:\n",
            " [[6 0]\n",
            " [9 0]]\n",
            "\n",
            "kernel: sigmoid, decision_function_shape: ovo, gamma: 1.0\n",
            "Accuracy: 0.4\n",
            "Precision: 0.0\n",
            "Recall: 0.0\n",
            "F1 Score: 0.0\n",
            "Confusion Matrix:\n",
            " [[6 0]\n",
            " [9 0]]\n",
            "\n",
            "kernel: sigmoid, decision_function_shape: ovo, gamma: 2.0\n"
          ]
        },
        {
          "output_type": "stream",
          "name": "stderr",
          "text": [
            "/usr/local/lib/python3.10/dist-packages/sklearn/metrics/_classification.py:1344: UndefinedMetricWarning: Precision is ill-defined and being set to 0.0 due to no predicted samples. Use `zero_division` parameter to control this behavior.\n",
            "  _warn_prf(average, modifier, msg_start, len(result))\n",
            "/usr/local/lib/python3.10/dist-packages/sklearn/metrics/_classification.py:1344: UndefinedMetricWarning: Precision is ill-defined and being set to 0.0 due to no predicted samples. Use `zero_division` parameter to control this behavior.\n",
            "  _warn_prf(average, modifier, msg_start, len(result))\n",
            "/usr/local/lib/python3.10/dist-packages/sklearn/metrics/_classification.py:1344: UndefinedMetricWarning: Precision is ill-defined and being set to 0.0 due to no predicted samples. Use `zero_division` parameter to control this behavior.\n",
            "  _warn_prf(average, modifier, msg_start, len(result))\n"
          ]
        },
        {
          "output_type": "stream",
          "name": "stdout",
          "text": [
            "Accuracy: 0.4\n",
            "Precision: 0.0\n",
            "Recall: 0.0\n",
            "F1 Score: 0.0\n",
            "Confusion Matrix:\n",
            " [[6 0]\n",
            " [9 0]]\n",
            "\n",
            "kernel: sigmoid, decision_function_shape: ovo, gamma: 10.0\n",
            "Accuracy: 0.4\n",
            "Precision: 0.0\n",
            "Recall: 0.0\n",
            "F1 Score: 0.0\n",
            "Confusion Matrix:\n",
            " [[6 0]\n",
            " [9 0]]\n",
            "\n",
            "kernel: sigmoid, decision_function_shape: ovr, gamma: scale\n",
            "Accuracy: 0.4\n",
            "Precision: 0.0\n",
            "Recall: 0.0\n",
            "F1 Score: 0.0\n",
            "Confusion Matrix:\n",
            " [[6 0]\n",
            " [9 0]]\n",
            "\n",
            "kernel: sigmoid, decision_function_shape: ovr, gamma: 0.1\n",
            "Accuracy: 0.4\n",
            "Precision: 0.0\n",
            "Recall: 0.0\n",
            "F1 Score: 0.0\n",
            "Confusion Matrix:\n",
            " [[6 0]\n",
            " [9 0]]\n",
            "\n",
            "kernel: sigmoid, decision_function_shape: ovr, gamma: 0.5\n",
            "Accuracy: 0.4\n",
            "Precision: 0.0\n",
            "Recall: 0.0\n",
            "F1 Score: 0.0\n",
            "Confusion Matrix:\n",
            " [[6 0]\n",
            " [9 0]]\n",
            "\n",
            "kernel: sigmoid, decision_function_shape: ovr, gamma: 1.0\n",
            "Accuracy: 0.4\n",
            "Precision: 0.0\n",
            "Recall: 0.0\n",
            "F1 Score: 0.0\n",
            "Confusion Matrix:\n",
            " [[6 0]\n",
            " [9 0]]\n",
            "\n",
            "kernel: sigmoid, decision_function_shape: ovr, gamma: 2.0\n",
            "Accuracy: 0.4\n",
            "Precision: 0.0\n",
            "Recall: 0.0\n",
            "F1 Score: 0.0\n",
            "Confusion Matrix:\n",
            " [[6 0]\n",
            " [9 0]]\n",
            "\n",
            "kernel: sigmoid, decision_function_shape: ovr, gamma: 10.0\n",
            "Accuracy: 0.4\n",
            "Precision: 0.0\n",
            "Recall: 0.0\n",
            "F1 Score: 0.0\n",
            "Confusion Matrix:\n",
            " [[6 0]\n",
            " [9 0]]\n"
          ]
        },
        {
          "output_type": "stream",
          "name": "stderr",
          "text": [
            "/usr/local/lib/python3.10/dist-packages/sklearn/metrics/_classification.py:1344: UndefinedMetricWarning: Precision is ill-defined and being set to 0.0 due to no predicted samples. Use `zero_division` parameter to control this behavior.\n",
            "  _warn_prf(average, modifier, msg_start, len(result))\n",
            "/usr/local/lib/python3.10/dist-packages/sklearn/metrics/_classification.py:1344: UndefinedMetricWarning: Precision is ill-defined and being set to 0.0 due to no predicted samples. Use `zero_division` parameter to control this behavior.\n",
            "  _warn_prf(average, modifier, msg_start, len(result))\n",
            "/usr/local/lib/python3.10/dist-packages/sklearn/metrics/_classification.py:1344: UndefinedMetricWarning: Precision is ill-defined and being set to 0.0 due to no predicted samples. Use `zero_division` parameter to control this behavior.\n",
            "  _warn_prf(average, modifier, msg_start, len(result))\n",
            "/usr/local/lib/python3.10/dist-packages/sklearn/metrics/_classification.py:1344: UndefinedMetricWarning: Precision is ill-defined and being set to 0.0 due to no predicted samples. Use `zero_division` parameter to control this behavior.\n",
            "  _warn_prf(average, modifier, msg_start, len(result))\n"
          ]
        }
      ],
      "source": [
        "kernels = ['linear', 'poly', 'rbf', 'sigmoid']\n",
        "decision_function_shape = ['ovo', 'ovr']\n",
        "gammas = ['scale', 0.1, 0.5, 1.0, 2.0, 10.0]\n",
        "degrees = [2, 3, 5, 10]\n",
        "weights = {0: count_2 / (count_1 + count_2), 1: count_1 / (count_1 + count_2)}\n",
        "for kernel in kernels:\n",
        "    for dec in decision_function_shape:\n",
        "        if kernel == 'linear':\n",
        "            print(f\"\\nkernel: {kernel}, decision_function_shape: {dec}\")\n",
        "            try:\n",
        "                svm_model = svm.SVC(kernel = kernel, class_weight = weights)\n",
        "                svm_model.fit(X_train, y_train)\n",
        "                predict(svm_model, X_test, y_test)\n",
        "            except:\n",
        "                print(\"Incorrect parameters.\")\n",
        "        elif kernel == 'poly':\n",
        "            for g in gammas:\n",
        "                for d in degrees:\n",
        "                    print(f\"\\nkernel: {kernel}, decision_function_shape: {dec}, gamma: {g}, degree: {d}\")\n",
        "                    try:\n",
        "                        svm_model = svm.SVC(kernel = kernel, gamma = g, degree = d, class_weight = weights)\n",
        "                        svm_model.fit(X_train, y_train)\n",
        "                        predict(svm_model, X_test, y_test)\n",
        "                    except:\n",
        "                        print(\"Incorrect parameters.\")\n",
        "        else:\n",
        "            for g in gammas:\n",
        "                  print(f\"\\nkernel: {kernel}, decision_function_shape: {dec}, gamma: {g}\")\n",
        "                  try:\n",
        "                      svm_model = svm.SVC(kernel = kernel, gamma = g, class_weight = weights)\n",
        "                      svm_model.fit(X_train, y_train)\n",
        "                      predict(svm_model, X_test, y_test)\n",
        "                  except:\n",
        "                      print(\"Incorrect parameters.\")"
      ],
      "metadata": {
        "pycharm": {
          "is_executing": true
        },
        "colab": {
          "base_uri": "https://localhost:8080/"
        },
        "id": "u6jxWY5uObke",
        "outputId": "f6e5ebd7-7bb7-48b6-8b18-b1e1efb33f39"
      }
    },
    {
      "cell_type": "code",
      "execution_count": null,
      "outputs": [],
      "source": [],
      "metadata": {
        "id": "73yCt1qLObke"
      }
    }
  ],
  "metadata": {
    "kernelspec": {
      "display_name": "Python 3",
      "language": "python",
      "name": "python3"
    },
    "language_info": {
      "codemirror_mode": {
        "name": "ipython",
        "version": 2
      },
      "file_extension": ".py",
      "mimetype": "text/x-python",
      "name": "python",
      "nbconvert_exporter": "python",
      "pygments_lexer": "ipython2",
      "version": "2.7.6"
    },
    "colab": {
      "provenance": []
    }
  },
  "nbformat": 4,
  "nbformat_minor": 0
}