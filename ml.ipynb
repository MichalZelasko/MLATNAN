{
 "cells": [
  {
   "cell_type": "code",
   "execution_count": 1,
   "outputs": [],
   "source": [
    "import os\n",
    "import numpy as np\n",
    "from sklearn import svm\n",
    "from sklearn.model_selection import train_test_split\n",
    "from sklearn.metrics import accuracy_score, precision_score, recall_score, f1_score, confusion_matrix\n",
    "import pandas as pd\n",
    "from sklearn.preprocessing import LabelBinarizer"
   ],
   "metadata": {
    "collapsed": false
   }
  },
  {
   "cell_type": "code",
   "execution_count": 2,
   "outputs": [],
   "source": [
    "labels_file = 'Data/participants.tsv'\n",
    "data_directory = 'cc_matrices/'"
   ],
   "metadata": {
    "collapsed": false
   }
  },
  {
   "cell_type": "code",
   "execution_count": 3,
   "outputs": [],
   "source": [
    "def read_matrix_from_file(file_path):\n",
    "    with open(file_path, 'r') as file:\n",
    "        content = file.readlines()\n",
    "        matrix = []\n",
    "        for line in content:\n",
    "            values = line.rstrip().split(',')\n",
    "            row = []\n",
    "            for val in values:\n",
    "                if val.strip():\n",
    "                    try:\n",
    "                        row.append(float(val))\n",
    "                    except ValueError:\n",
    "                        print(f\"Warning: Non-numeric value '{val}' found. Skipping.\")\n",
    "            if row:\n",
    "                matrix.append(row)\n",
    "    return np.array(matrix)"
   ],
   "metadata": {
    "collapsed": false
   }
  },
  {
   "cell_type": "code",
   "execution_count": 31,
   "outputs": [
    {
     "name": "stdout",
     "output_type": "stream",
     "text": [
      "Unique Labels: ['ADHD' 'BIPOLAR' 'CONTROL' 'SCHZ']\n",
      "Labels:\n",
      " {10159: 3, 10171: 3, 10189: 3, 10193: 3, 10206: 3, 10217: 3, 10225: 3, 10227: 3, 10228: 3, 10235: 3, 10249: 3, 10269: 3, 10271: 3, 10273: 3, 10274: 3, 10280: 3, 10290: 3, 10292: 3, 10299: 3, 10304: 3, 10316: 3, 10321: 3, 10325: 3, 10329: 3, 10339: 3, 10340: 3, 10345: 3, 10347: 3, 10356: 3, 10361: 3, 10365: 3, 10376: 3, 10377: 3, 10388: 3, 10428: 3, 10429: 3, 10438: 3, 10440: 3, 10448: 3, 10455: 3, 10460: 3, 10471: 3, 10478: 3, 10487: 3, 10492: 3, 10501: 3, 10506: 3, 10517: 3, 10523: 3, 10524: 3, 10525: 3, 10527: 3, 10530: 3, 10557: 3, 10565: 3, 10570: 3, 10575: 3, 10624: 3, 10629: 3, 10631: 3, 10638: 3, 10668: 3, 10672: 3, 10674: 3, 10678: 3, 10680: 3, 10686: 3, 10692: 3, 10696: 3, 10697: 3, 10704: 3, 10707: 3, 10708: 3, 10719: 3, 10724: 3, 10746: 3, 10762: 3, 10779: 3, 10785: 3, 10788: 3, 10844: 3, 10855: 3, 10871: 3, 10877: 3, 10882: 3, 10891: 3, 10893: 3, 10912: 3, 10934: 3, 10940: 3, 10948: 3, 10949: 3, 10958: 3, 10963: 3, 10968: 3, 10971: 3, 10975: 3, 10977: 3, 10987: 3, 10998: 3, 11019: 3, 11030: 3, 11044: 3, 11050: 3, 11052: 3, 11059: 3, 11061: 3, 11062: 3, 11066: 3, 11067: 3, 11068: 3, 11077: 3, 11082: 3, 11088: 3, 11090: 3, 11097: 3, 11098: 3, 11104: 3, 11105: 3, 11106: 3, 11108: 3, 11112: 3, 11121: 3, 11122: 3, 11128: 3, 11131: 3, 11142: 3, 11143: 3, 11149: 3, 11156: 3, 50004: 4, 50005: 4, 50006: 4, 50007: 4, 50008: 4, 50010: 4, 50013: 4, 50014: 4, 50015: 4, 50016: 4, 50020: 4, 50021: 4, 50022: 4, 50023: 4, 50025: 4, 50027: 4, 50029: 4, 50032: 4, 50033: 4, 50034: 4, 50035: 4, 50036: 4, 50038: 4, 50043: 4, 50047: 4, 50048: 4, 50049: 4, 50050: 4, 50051: 4, 50052: 4, 50053: 4, 50054: 4, 50055: 4, 50056: 4, 50058: 4, 50059: 4, 50060: 4, 50061: 4, 50064: 4, 50066: 4, 50067: 4, 50069: 4, 50073: 4, 50075: 4, 50076: 4, 50077: 4, 50080: 4, 50081: 4, 50083: 4, 50085: 4, 60001: 2, 60005: 2, 60006: 2, 60008: 2, 60010: 2, 60011: 2, 60012: 2, 60014: 2, 60015: 2, 60016: 2, 60017: 2, 60020: 2, 60021: 2, 60022: 2, 60028: 2, 60030: 2, 60033: 2, 60036: 2, 60037: 2, 60038: 2, 60042: 2, 60043: 2, 60045: 2, 60046: 2, 60048: 2, 60049: 2, 60051: 2, 60052: 2, 60053: 2, 60055: 2, 60056: 2, 60057: 2, 60060: 2, 60062: 2, 60065: 2, 60066: 2, 60068: 2, 60070: 2, 60072: 2, 60073: 2, 60074: 2, 60076: 2, 60077: 2, 60078: 2, 60079: 2, 60080: 2, 60084: 2, 60087: 2, 60089: 2, 70001: 1, 70002: 1, 70004: 1, 70007: 1, 70010: 1, 70015: 1, 70017: 1, 70020: 1, 70021: 1, 70022: 1, 70026: 1, 70029: 1, 70033: 1, 70034: 1, 70035: 1, 70036: 1, 70037: 1, 70040: 1, 70046: 1, 70048: 1, 70049: 1, 70051: 1, 70052: 1, 70055: 1, 70057: 1, 70058: 1, 70060: 1, 70061: 1, 70065: 1, 70068: 1, 70069: 1, 70070: 1, 70072: 1, 70073: 1, 70074: 1, 70075: 1, 70076: 1, 70077: 1, 70079: 1, 70080: 1, 70081: 1, 70083: 1, 70086: 1}\n"
     ]
    }
   ],
   "source": [
    "participant_data = pd.read_csv(labels_file, sep='\\t')\n",
    "diagnosis_data = participant_data[['participant_id', 'diagnosis']]\n",
    "labels_dict = dict(zip(diagnosis_data['participant_id'], diagnosis_data['diagnosis']))\n",
    "unique_labels = np.unique(list(labels_dict.values()))\n",
    "\n",
    "labels_dict = dict(zip(diagnosis_data['participant_id'], diagnosis_data['diagnosis']))\n",
    "label_to_number = {label: i + 1 for i, label in enumerate(unique_labels)}\n",
    "labels_dict = {participant_id: label_to_number[label] for participant_id, label in labels_dict.items()}\n",
    "labels_dict = {int(key.replace('sub-', '')): value for key, value in labels_dict.items()}\n",
    "\n",
    "print(\"Unique Labels:\", unique_labels)\n",
    "print(\"Labels:\\n\", labels_dict)"
   ],
   "metadata": {
    "collapsed": false
   }
  },
  {
   "cell_type": "code",
   "execution_count": 32,
   "outputs": [
    {
     "name": "stdout",
     "output_type": "stream",
     "text": [
      "['ADHD' 'BIPOLAR' 'CONTROL' 'SCHZ']\n",
      "Occurrences of each key:\n",
      "CONTROL: 130\n",
      "SCHZ: 50\n",
      "BIPOLAR: 49\n",
      "ADHD: 43\n"
     ]
    }
   ],
   "source": [
    "from collections import Counter\n",
    "print(unique_labels)\n",
    "occurrences = Counter(labels_dict.values())\n",
    "print(\"Occurrences of each key:\")\n",
    "for key, count in occurrences.items():\n",
    "    print(f\"{unique_labels[key-1]}: {count}\")"
   ],
   "metadata": {
    "collapsed": false
   }
  },
  {
   "cell_type": "code",
   "execution_count": 5,
   "outputs": [],
   "source": [
    "def read_data():\n",
    "    data = []\n",
    "    target = []\n",
    "    for filename in os.listdir(data_directory):\n",
    "        if filename.endswith('.txt'):\n",
    "            file_id = int(filename.split('-')[-1].split('.')[0])\n",
    "            if int(file_id) in labels_dict:\n",
    "                file_path = os.path.join(data_directory, filename)\n",
    "                matrix = read_matrix_from_file(file_path)\n",
    "                data.append(matrix.flatten())\n",
    "                target.append(labels_dict[file_id])\n",
    "    return data, target"
   ],
   "metadata": {
    "collapsed": false
   }
  },
  {
   "cell_type": "code",
   "execution_count": 6,
   "outputs": [],
   "source": [
    "data, target = read_data()"
   ],
   "metadata": {
    "collapsed": false
   }
  },
  {
   "cell_type": "code",
   "execution_count": 14,
   "outputs": [
    {
     "name": "stdout",
     "output_type": "stream",
     "text": [
      "13689 0 3\n",
      "13689 1 3\n",
      "13689 2 3\n",
      "13689 3 3\n",
      "13689 4 2\n",
      "13689 5 4\n",
      "13689 6 2\n",
      "13689 7 3\n",
      "13689 8 4\n",
      "13689 9 3\n",
      "13689 10 3\n",
      "13689 11 3\n",
      "13689 12 3\n",
      "13689 13 1\n",
      "13689 14 3\n",
      "13689 15 2\n",
      "13689 16 3\n",
      "13689 17 3\n",
      "13689 18 4\n",
      "13689 19 4\n",
      "13689 20 4\n",
      "13689 21 3\n",
      "13689 22 3\n",
      "13689 23 3\n",
      "13689 24 4\n",
      "13689 25 4\n",
      "13689 26 4\n",
      "13689 27 4\n",
      "13689 28 4\n",
      "13689 29 2\n",
      "13689 30 2\n",
      "13689 31 3\n",
      "13689 32 3\n",
      "13689 33 3\n",
      "13689 34 3\n",
      "13689 35 4\n",
      "13689 36 4\n",
      "13689 37 4\n",
      "13689 38 3\n",
      "13689 39 3\n",
      "13689 40 1\n",
      "13689 41 2\n",
      "13689 42 2\n",
      "13689 43 4\n",
      "13689 44 3\n",
      "13689 45 2\n",
      "13689 46 3\n",
      "13689 47 4\n",
      "13689 48 4\n",
      "13689 49 4\n",
      "13689 50 3\n",
      "13689 51 4\n",
      "13689 52 3\n",
      "13689 53 3\n",
      "13689 54 2\n",
      "13689 55 2\n",
      "13689 56 1\n",
      "13689 57 4\n",
      "12544 58 4\n",
      "13689 59 2\n",
      "13689 60 3\n",
      "13689 61 4\n",
      "13689 62 4\n",
      "12769 63 3\n",
      "13689 64 4\n",
      "13689 65 3\n",
      "13689 66 4\n",
      "13689 67 3\n",
      "13689 68 2\n",
      "13689 69 4\n",
      "13689 70 4\n",
      "13689 71 4\n"
     ]
    }
   ],
   "source": [
    "for idx,d in enumerate(data):\n",
    "    print(len(d), idx, target[idx])\n",
    "    if len(d) != 13689:\n",
    "        del data[idx]\n",
    "        del target[idx]"
   ],
   "metadata": {
    "collapsed": false
   }
  },
  {
   "cell_type": "code",
   "execution_count": 17,
   "outputs": [
    {
     "name": "stdout",
     "output_type": "stream",
     "text": [
      "72\n",
      "72\n"
     ]
    }
   ],
   "source": [
    "print(len(data))\n",
    "print(len(target))"
   ],
   "metadata": {
    "collapsed": false
   }
  },
  {
   "cell_type": "code",
   "execution_count": 20,
   "outputs": [
    {
     "name": "stdout",
     "output_type": "stream",
     "text": [
      "57\n",
      "57\n"
     ]
    }
   ],
   "source": [
    "X_train, X_test, y_train, y_test = train_test_split(data, target, test_size=0.2, random_state=42)\n",
    "print(len(X_train))\n",
    "print(len(y_train))"
   ],
   "metadata": {
    "collapsed": false
   }
  },
  {
   "cell_type": "code",
   "execution_count": 21,
   "metadata": {
    "collapsed": true
   },
   "outputs": [
    {
     "data": {
      "text/plain": "SVC()"
     },
     "execution_count": 21,
     "metadata": {},
     "output_type": "execute_result"
    }
   ],
   "source": [
    "svm_model = svm.SVC()\n",
    "svm_model.fit(X_train, y_train)"
   ]
  },
  {
   "cell_type": "code",
   "execution_count": 22,
   "outputs": [],
   "source": [
    "y_pred = svm_model.predict(X_test)"
   ],
   "metadata": {
    "collapsed": false
   }
  },
  {
   "cell_type": "code",
   "execution_count": 24,
   "outputs": [
    {
     "name": "stdout",
     "output_type": "stream",
     "text": [
      "Accuracy: 0.5333333333333333\n",
      "Precision: 0.4791666666666667\n",
      "Recall: 0.6666666666666666\n",
      "F1 Score: 0.5339912280701754\n",
      "Confusion Matrix:\n",
      " [[0 1 2]\n",
      " [0 7 0]\n",
      " [0 4 1]]\n"
     ]
    }
   ],
   "source": [
    "accuracy = accuracy_score(y_test, y_pred)\n",
    "precision = precision_score(y_test, y_pred, average='weighted', labels=np.unique(y_pred))\n",
    "recall = recall_score(y_test, y_pred, average='weighted', labels=np.unique(y_pred))\n",
    "f1 = f1_score(y_test, y_pred, average='weighted', labels=np.unique(y_pred))\n",
    "conf_matrix = confusion_matrix(y_test, y_pred)\n",
    "\n",
    "print(\"Accuracy:\", accuracy)\n",
    "print(\"Precision:\", precision)\n",
    "print(\"Recall:\", recall)\n",
    "print(\"F1 Score:\", f1)\n",
    "print(\"Confusion Matrix:\\n\", conf_matrix)"
   ],
   "metadata": {
    "collapsed": false
   }
  },
  {
   "cell_type": "code",
   "execution_count": null,
   "outputs": [],
   "source": [],
   "metadata": {
    "collapsed": false
   }
  }
 ],
 "metadata": {
  "kernelspec": {
   "display_name": "Python 3",
   "language": "python",
   "name": "python3"
  },
  "language_info": {
   "codemirror_mode": {
    "name": "ipython",
    "version": 2
   },
   "file_extension": ".py",
   "mimetype": "text/x-python",
   "name": "python",
   "nbconvert_exporter": "python",
   "pygments_lexer": "ipython2",
   "version": "2.7.6"
  }
 },
 "nbformat": 4,
 "nbformat_minor": 0
}
